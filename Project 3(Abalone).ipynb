{
 "cells": [
  {
   "cell_type": "code",
   "execution_count": 14,
   "metadata": {},
   "outputs": [],
   "source": [
    "# Import all the necessary librareis\n",
    "import numpy as np \n",
    "import pandas as pd \n",
    "import seaborn as sns\n",
    "%matplotlib inline\n",
    "from matplotlib import pyplot as plt\n",
    "from matplotlib import style\n",
    "import warnings \n",
    "warnings.filterwarnings('ignore')\n",
    "from sklearn import preprocessing"
   ]
  },
  {
   "cell_type": "code",
   "execution_count": 15,
   "metadata": {},
   "outputs": [
    {
     "data": {
      "text/html": [
       "<div>\n",
       "<style scoped>\n",
       "    .dataframe tbody tr th:only-of-type {\n",
       "        vertical-align: middle;\n",
       "    }\n",
       "\n",
       "    .dataframe tbody tr th {\n",
       "        vertical-align: top;\n",
       "    }\n",
       "\n",
       "    .dataframe thead th {\n",
       "        text-align: right;\n",
       "    }\n",
       "</style>\n",
       "<table border=\"1\" class=\"dataframe\">\n",
       "  <thead>\n",
       "    <tr style=\"text-align: right;\">\n",
       "      <th></th>\n",
       "      <th>Sex</th>\n",
       "      <th>Length</th>\n",
       "      <th>Diameter</th>\n",
       "      <th>Height</th>\n",
       "      <th>Whole weight</th>\n",
       "      <th>Shucked weight</th>\n",
       "      <th>Viscera weight</th>\n",
       "      <th>Shell weight</th>\n",
       "      <th>Rings</th>\n",
       "    </tr>\n",
       "  </thead>\n",
       "  <tbody>\n",
       "    <tr>\n",
       "      <th>0</th>\n",
       "      <td>M</td>\n",
       "      <td>0.455</td>\n",
       "      <td>0.365</td>\n",
       "      <td>0.095</td>\n",
       "      <td>0.5140</td>\n",
       "      <td>0.2245</td>\n",
       "      <td>0.1010</td>\n",
       "      <td>0.15</td>\n",
       "      <td>15</td>\n",
       "    </tr>\n",
       "    <tr>\n",
       "      <th>1</th>\n",
       "      <td>M</td>\n",
       "      <td>0.350</td>\n",
       "      <td>0.265</td>\n",
       "      <td>0.090</td>\n",
       "      <td>0.2255</td>\n",
       "      <td>0.0995</td>\n",
       "      <td>0.0485</td>\n",
       "      <td>0.07</td>\n",
       "      <td>7</td>\n",
       "    </tr>\n",
       "  </tbody>\n",
       "</table>\n",
       "</div>"
      ],
      "text/plain": [
       "  Sex  Length  Diameter  Height  Whole weight  Shucked weight  Viscera weight  \\\n",
       "0   M   0.455     0.365   0.095        0.5140          0.2245          0.1010   \n",
       "1   M   0.350     0.265   0.090        0.2255          0.0995          0.0485   \n",
       "\n",
       "   Shell weight  Rings  \n",
       "0          0.15     15  \n",
       "1          0.07      7  "
      ]
     },
     "execution_count": 15,
     "metadata": {},
     "output_type": "execute_result"
    }
   ],
   "source": [
    "# Read  abalone dataset\n",
    "df = pd.read_csv(\"abalone.csv\")\n",
    "df.head(2)"
   ]
  },
  {
   "cell_type": "code",
   "execution_count": 16,
   "metadata": {},
   "outputs": [
    {
     "data": {
      "text/plain": [
       "<matplotlib.axes._subplots.AxesSubplot at 0x23ed370df60>"
      ]
     },
     "execution_count": 16,
     "metadata": {},
     "output_type": "execute_result"
    },
    {
     "data": {
      "image/png": "[encoded data removed]",
      "text/plain": [
       "<Figure size 432x288 with 2 Axes>"
      ]
     },
     "metadata": {
      "needs_background": "light"
     },
     "output_type": "display_data"
    }
   ],
   "source": [
    "sns.heatmap(df.isnull()) "
   ]
  },
  {
   "cell_type": "code",
   "execution_count": 17,
   "metadata": {},
   "outputs": [],
   "source": [
    "df['age'] = df['Rings']+1.5"
   ]
  },
  {
   "cell_type": "code",
   "execution_count": 18,
   "metadata": {},
   "outputs": [
    {
     "data": {
      "text/html": [
       "<div>\n",
       "<style scoped>\n",
       "    .dataframe tbody tr th:only-of-type {\n",
       "        vertical-align: middle;\n",
       "    }\n",
       "\n",
       "    .dataframe tbody tr th {\n",
       "        vertical-align: top;\n",
       "    }\n",
       "\n",
       "    .dataframe thead th {\n",
       "        text-align: right;\n",
       "    }\n",
       "</style>\n",
       "<table border=\"1\" class=\"dataframe\">\n",
       "  <thead>\n",
       "    <tr style=\"text-align: right;\">\n",
       "      <th></th>\n",
       "      <th>Sex</th>\n",
       "      <th>Length</th>\n",
       "      <th>Diameter</th>\n",
       "      <th>Height</th>\n",
       "      <th>Whole weight</th>\n",
       "      <th>Shucked weight</th>\n",
       "      <th>Viscera weight</th>\n",
       "      <th>Shell weight</th>\n",
       "      <th>Rings</th>\n",
       "      <th>age</th>\n",
       "    </tr>\n",
       "  </thead>\n",
       "  <tbody>\n",
       "    <tr>\n",
       "      <th>0</th>\n",
       "      <td>M</td>\n",
       "      <td>0.455</td>\n",
       "      <td>0.365</td>\n",
       "      <td>0.095</td>\n",
       "      <td>0.5140</td>\n",
       "      <td>0.2245</td>\n",
       "      <td>0.1010</td>\n",
       "      <td>0.150</td>\n",
       "      <td>15</td>\n",
       "      <td>16.5</td>\n",
       "    </tr>\n",
       "    <tr>\n",
       "      <th>1</th>\n",
       "      <td>M</td>\n",
       "      <td>0.350</td>\n",
       "      <td>0.265</td>\n",
       "      <td>0.090</td>\n",
       "      <td>0.2255</td>\n",
       "      <td>0.0995</td>\n",
       "      <td>0.0485</td>\n",
       "      <td>0.070</td>\n",
       "      <td>7</td>\n",
       "      <td>8.5</td>\n",
       "    </tr>\n",
       "    <tr>\n",
       "      <th>2</th>\n",
       "      <td>F</td>\n",
       "      <td>0.530</td>\n",
       "      <td>0.420</td>\n",
       "      <td>0.135</td>\n",
       "      <td>0.6770</td>\n",
       "      <td>0.2565</td>\n",
       "      <td>0.1415</td>\n",
       "      <td>0.210</td>\n",
       "      <td>9</td>\n",
       "      <td>10.5</td>\n",
       "    </tr>\n",
       "    <tr>\n",
       "      <th>3</th>\n",
       "      <td>M</td>\n",
       "      <td>0.440</td>\n",
       "      <td>0.365</td>\n",
       "      <td>0.125</td>\n",
       "      <td>0.5160</td>\n",
       "      <td>0.2155</td>\n",
       "      <td>0.1140</td>\n",
       "      <td>0.155</td>\n",
       "      <td>10</td>\n",
       "      <td>11.5</td>\n",
       "    </tr>\n",
       "    <tr>\n",
       "      <th>4</th>\n",
       "      <td>I</td>\n",
       "      <td>0.330</td>\n",
       "      <td>0.255</td>\n",
       "      <td>0.080</td>\n",
       "      <td>0.2050</td>\n",
       "      <td>0.0895</td>\n",
       "      <td>0.0395</td>\n",
       "      <td>0.055</td>\n",
       "      <td>7</td>\n",
       "      <td>8.5</td>\n",
       "    </tr>\n",
       "  </tbody>\n",
       "</table>\n",
       "</div>"
      ],
      "text/plain": [
       "  Sex  Length  Diameter  Height  Whole weight  Shucked weight  Viscera weight  \\\n",
       "0   M   0.455     0.365   0.095        0.5140          0.2245          0.1010   \n",
       "1   M   0.350     0.265   0.090        0.2255          0.0995          0.0485   \n",
       "2   F   0.530     0.420   0.135        0.6770          0.2565          0.1415   \n",
       "3   M   0.440     0.365   0.125        0.5160          0.2155          0.1140   \n",
       "4   I   0.330     0.255   0.080        0.2050          0.0895          0.0395   \n",
       "\n",
       "   Shell weight  Rings   age  \n",
       "0         0.150     15  16.5  \n",
       "1         0.070      7   8.5  \n",
       "2         0.210      9  10.5  \n",
       "3         0.155     10  11.5  \n",
       "4         0.055      7   8.5  "
      ]
     },
     "execution_count": 18,
     "metadata": {},
     "output_type": "execute_result"
    }
   ],
   "source": [
    " df.head(5)"
   ]
  },
  {
   "cell_type": "code",
   "execution_count": 19,
   "metadata": {},
   "outputs": [],
   "source": [
    "df.drop('Rings', axis = 1, inplace = True)"
   ]
  },
  {
   "cell_type": "code",
   "execution_count": 11,
   "metadata": {},
   "outputs": [
    {
     "data": {
      "text/plain": [
       "array([[<matplotlib.axes._subplots.AxesSubplot object at 0x0000023ED32B0278>,\n",
       "        <matplotlib.axes._subplots.AxesSubplot object at 0x0000023ED3019710>,\n",
       "        <matplotlib.axes._subplots.AxesSubplot object at 0x0000023ED303BC88>,\n",
       "        <matplotlib.axes._subplots.AxesSubplot object at 0x0000023ED3073278>],\n",
       "       [<matplotlib.axes._subplots.AxesSubplot object at 0x0000023ED30A1828>,\n",
       "        <matplotlib.axes._subplots.AxesSubplot object at 0x0000023ED30CFDD8>,\n",
       "        <matplotlib.axes._subplots.AxesSubplot object at 0x0000023ED3109390>,\n",
       "        <matplotlib.axes._subplots.AxesSubplot object at 0x0000023ED3135978>]],\n",
       "      dtype=object)"
      ]
     },
     "execution_count": 11,
     "metadata": {},
     "output_type": "execute_result"
    },
    {
     "data": {
      "image/png": "[encoded data removed]",
      "text/plain": [
       "<Figure size 1440x720 with 8 Axes>"
      ]
     },
     "metadata": {
      "needs_background": "light"
     },
     "output_type": "display_data"
    }
   ],
   "source": [
    "df.hist(figsize=(20,10), grid=False, layout=(2, 4), bins = 30, color='purple')"
   ]
  },
  {
   "cell_type": "code",
   "execution_count": 24,
   "metadata": {},
   "outputs": [
    {
     "data": {
      "text/html": [
       "<div>\n",
       "<style scoped>\n",
       "    .dataframe tbody tr th:only-of-type {\n",
       "        vertical-align: middle;\n",
       "    }\n",
       "\n",
       "    .dataframe tbody tr th {\n",
       "        vertical-align: top;\n",
       "    }\n",
       "\n",
       "    .dataframe thead th {\n",
       "        text-align: right;\n",
       "    }\n",
       "</style>\n",
       "<table border=\"1\" class=\"dataframe\">\n",
       "  <thead>\n",
       "    <tr style=\"text-align: right;\">\n",
       "      <th></th>\n",
       "      <th>Sex</th>\n",
       "      <th>Length</th>\n",
       "      <th>Diameter</th>\n",
       "      <th>Height</th>\n",
       "      <th>Whole weight</th>\n",
       "      <th>Shucked weight</th>\n",
       "      <th>Viscera weight</th>\n",
       "      <th>Shell weight</th>\n",
       "      <th>age</th>\n",
       "    </tr>\n",
       "  </thead>\n",
       "  <tbody>\n",
       "    <tr>\n",
       "      <th>0</th>\n",
       "      <td>M</td>\n",
       "      <td>0.455</td>\n",
       "      <td>0.365</td>\n",
       "      <td>0.095</td>\n",
       "      <td>0.5140</td>\n",
       "      <td>0.2245</td>\n",
       "      <td>0.1010</td>\n",
       "      <td>0.15</td>\n",
       "      <td>16.5</td>\n",
       "    </tr>\n",
       "    <tr>\n",
       "      <th>1</th>\n",
       "      <td>M</td>\n",
       "      <td>0.350</td>\n",
       "      <td>0.265</td>\n",
       "      <td>0.090</td>\n",
       "      <td>0.2255</td>\n",
       "      <td>0.0995</td>\n",
       "      <td>0.0485</td>\n",
       "      <td>0.07</td>\n",
       "      <td>8.5</td>\n",
       "    </tr>\n",
       "  </tbody>\n",
       "</table>\n",
       "</div>"
      ],
      "text/plain": [
       "  Sex  Length  Diameter  Height  Whole weight  Shucked weight  Viscera weight  \\\n",
       "0   M   0.455     0.365   0.095        0.5140          0.2245          0.1010   \n",
       "1   M   0.350     0.265   0.090        0.2255          0.0995          0.0485   \n",
       "\n",
       "   Shell weight   age  \n",
       "0          0.15  16.5  \n",
       "1          0.07   8.5  "
      ]
     },
     "execution_count": 24,
     "metadata": {},
     "output_type": "execute_result"
    }
   ],
   "source": [
    "df.head(2)"
   ]
  },
  {
   "cell_type": "code",
   "execution_count": 25,
   "metadata": {},
   "outputs": [
    {
     "data": {
      "image/png": "[encoded data removed]",
      "text/plain": [
       "<Figure size 432x288 with 1 Axes>"
      ]
     },
     "metadata": {
      "needs_background": "light"
     },
     "output_type": "display_data"
    }
   ],
   "source": [
    "sns.lineplot(x = \"age\", y = \"Diameter\", data=df)\n",
    "plt.show()"
   ]
  },
  {
   "cell_type": "code",
   "execution_count": 26,
   "metadata": {},
   "outputs": [
    {
     "data": {
      "text/plain": [
       "<matplotlib.axes._subplots.AxesSubplot at 0x23ed385d4a8>"
      ]
     },
     "execution_count": 26,
     "metadata": {},
     "output_type": "execute_result"
    },
    {
     "data": {
      "image/png": "[encoded data removed]",
      "text/plain": [
       "<Figure size 432x288 with 1 Axes>"
      ]
     },
     "metadata": {
      "needs_background": "light"
     },
     "output_type": "display_data"
    }
   ],
   "source": [
    " sns.countplot(x = 'Sex', data = df)"
   ]
  },
  {
   "cell_type": "code",
   "execution_count": 28,
   "metadata": {},
   "outputs": [
    {
     "data": {
      "text/plain": [
       "<matplotlib.axes._subplots.AxesSubplot at 0x23ed3b435f8>"
      ]
     },
     "execution_count": 28,
     "metadata": {},
     "output_type": "execute_result"
    },
    {
     "data": {
      "image/png": "[encoded data removed]",
      "text/plain": [
       "<Figure size 432x288 with 2 Axes>"
      ]
     },
     "metadata": {
      "needs_background": "light"
     },
     "output_type": "display_data"
    }
   ],
   "source": [
    "sns.heatmap(df.corr(),annot=True,cmap='RdBu')"
   ]
  },
  {
   "cell_type": "code",
   "execution_count": 29,
   "metadata": {},
   "outputs": [
    {
     "data": {
      "text/plain": [
       "<matplotlib.axes._subplots.AxesSubplot at 0x23ed40f93c8>"
      ]
     },
     "execution_count": 29,
     "metadata": {},
     "output_type": "execute_result"
    },
    {
     "data": {
      "image/png": "[encoded data removed]",
      "text/plain": [
       "<Figure size 432x288 with 1 Axes>"
      ]
     },
     "metadata": {
      "needs_background": "light"
     },
     "output_type": "display_data"
    }
   ],
   "source": [
    "df.plot.box()"
   ]
  },
  {
   "cell_type": "code",
   "execution_count": 30,
   "metadata": {},
   "outputs": [],
   "source": [
    "df = pd.get_dummies(df)\n",
    "dummy_data = df.copy()"
   ]
  },
  {
   "cell_type": "code",
   "execution_count": 34,
   "metadata": {},
   "outputs": [
    {
     "data": {
      "text/html": [
       "<div>\n",
       "<style scoped>\n",
       "    .dataframe tbody tr th:only-of-type {\n",
       "        vertical-align: middle;\n",
       "    }\n",
       "\n",
       "    .dataframe tbody tr th {\n",
       "        vertical-align: top;\n",
       "    }\n",
       "\n",
       "    .dataframe thead th {\n",
       "        text-align: right;\n",
       "    }\n",
       "</style>\n",
       "<table border=\"1\" class=\"dataframe\">\n",
       "  <thead>\n",
       "    <tr style=\"text-align: right;\">\n",
       "      <th></th>\n",
       "      <th>Length</th>\n",
       "      <th>Diameter</th>\n",
       "      <th>Height</th>\n",
       "      <th>Whole weight</th>\n",
       "      <th>Shucked weight</th>\n",
       "      <th>Viscera weight</th>\n",
       "      <th>Shell weight</th>\n",
       "      <th>age</th>\n",
       "      <th>Sex_F</th>\n",
       "      <th>Sex_I</th>\n",
       "      <th>Sex_M</th>\n",
       "    </tr>\n",
       "  </thead>\n",
       "  <tbody>\n",
       "    <tr>\n",
       "      <th>0</th>\n",
       "      <td>0.455000</td>\n",
       "      <td>0.365000</td>\n",
       "      <td>0.095000</td>\n",
       "      <td>0.514000</td>\n",
       "      <td>0.224500</td>\n",
       "      <td>0.101000</td>\n",
       "      <td>0.150000</td>\n",
       "      <td>11.433684</td>\n",
       "      <td>0</td>\n",
       "      <td>0</td>\n",
       "      <td>1</td>\n",
       "    </tr>\n",
       "    <tr>\n",
       "      <th>1</th>\n",
       "      <td>0.523992</td>\n",
       "      <td>0.265000</td>\n",
       "      <td>0.090000</td>\n",
       "      <td>0.225500</td>\n",
       "      <td>0.099500</td>\n",
       "      <td>0.048500</td>\n",
       "      <td>0.070000</td>\n",
       "      <td>8.500000</td>\n",
       "      <td>0</td>\n",
       "      <td>0</td>\n",
       "      <td>1</td>\n",
       "    </tr>\n",
       "    <tr>\n",
       "      <th>2</th>\n",
       "      <td>0.530000</td>\n",
       "      <td>0.420000</td>\n",
       "      <td>0.135000</td>\n",
       "      <td>0.677000</td>\n",
       "      <td>0.256500</td>\n",
       "      <td>0.141500</td>\n",
       "      <td>0.210000</td>\n",
       "      <td>10.500000</td>\n",
       "      <td>1</td>\n",
       "      <td>0</td>\n",
       "      <td>0</td>\n",
       "    </tr>\n",
       "    <tr>\n",
       "      <th>3</th>\n",
       "      <td>0.440000</td>\n",
       "      <td>0.365000</td>\n",
       "      <td>0.125000</td>\n",
       "      <td>0.516000</td>\n",
       "      <td>0.215500</td>\n",
       "      <td>0.114000</td>\n",
       "      <td>0.155000</td>\n",
       "      <td>11.500000</td>\n",
       "      <td>0</td>\n",
       "      <td>0</td>\n",
       "      <td>1</td>\n",
       "    </tr>\n",
       "    <tr>\n",
       "      <th>4</th>\n",
       "      <td>0.523992</td>\n",
       "      <td>0.407881</td>\n",
       "      <td>0.139516</td>\n",
       "      <td>0.205000</td>\n",
       "      <td>0.089500</td>\n",
       "      <td>0.180594</td>\n",
       "      <td>0.238831</td>\n",
       "      <td>8.500000</td>\n",
       "      <td>0</td>\n",
       "      <td>1</td>\n",
       "      <td>0</td>\n",
       "    </tr>\n",
       "    <tr>\n",
       "      <th>5</th>\n",
       "      <td>0.425000</td>\n",
       "      <td>0.300000</td>\n",
       "      <td>0.095000</td>\n",
       "      <td>0.351500</td>\n",
       "      <td>0.141000</td>\n",
       "      <td>0.077500</td>\n",
       "      <td>0.120000</td>\n",
       "      <td>9.500000</td>\n",
       "      <td>0</td>\n",
       "      <td>1</td>\n",
       "      <td>0</td>\n",
       "    </tr>\n",
       "    <tr>\n",
       "      <th>6</th>\n",
       "      <td>0.530000</td>\n",
       "      <td>0.415000</td>\n",
       "      <td>0.150000</td>\n",
       "      <td>0.777500</td>\n",
       "      <td>0.237000</td>\n",
       "      <td>0.141500</td>\n",
       "      <td>0.330000</td>\n",
       "      <td>11.433684</td>\n",
       "      <td>1</td>\n",
       "      <td>0</td>\n",
       "      <td>0</td>\n",
       "    </tr>\n",
       "    <tr>\n",
       "      <th>7</th>\n",
       "      <td>0.545000</td>\n",
       "      <td>0.425000</td>\n",
       "      <td>0.125000</td>\n",
       "      <td>0.768000</td>\n",
       "      <td>0.294000</td>\n",
       "      <td>0.149500</td>\n",
       "      <td>0.260000</td>\n",
       "      <td>11.433684</td>\n",
       "      <td>1</td>\n",
       "      <td>0</td>\n",
       "      <td>0</td>\n",
       "    </tr>\n",
       "    <tr>\n",
       "      <th>8</th>\n",
       "      <td>0.475000</td>\n",
       "      <td>0.370000</td>\n",
       "      <td>0.125000</td>\n",
       "      <td>0.509500</td>\n",
       "      <td>0.216500</td>\n",
       "      <td>0.112500</td>\n",
       "      <td>0.165000</td>\n",
       "      <td>10.500000</td>\n",
       "      <td>0</td>\n",
       "      <td>0</td>\n",
       "      <td>1</td>\n",
       "    </tr>\n",
       "    <tr>\n",
       "      <th>9</th>\n",
       "      <td>0.550000</td>\n",
       "      <td>0.440000</td>\n",
       "      <td>0.150000</td>\n",
       "      <td>0.894500</td>\n",
       "      <td>0.314500</td>\n",
       "      <td>0.151000</td>\n",
       "      <td>0.320000</td>\n",
       "      <td>11.433684</td>\n",
       "      <td>1</td>\n",
       "      <td>0</td>\n",
       "      <td>0</td>\n",
       "    </tr>\n",
       "    <tr>\n",
       "      <th>10</th>\n",
       "      <td>0.525000</td>\n",
       "      <td>0.380000</td>\n",
       "      <td>0.140000</td>\n",
       "      <td>0.606500</td>\n",
       "      <td>0.194000</td>\n",
       "      <td>0.147500</td>\n",
       "      <td>0.210000</td>\n",
       "      <td>15.500000</td>\n",
       "      <td>1</td>\n",
       "      <td>0</td>\n",
       "      <td>0</td>\n",
       "    </tr>\n",
       "    <tr>\n",
       "      <th>11</th>\n",
       "      <td>0.430000</td>\n",
       "      <td>0.350000</td>\n",
       "      <td>0.110000</td>\n",
       "      <td>0.406000</td>\n",
       "      <td>0.167500</td>\n",
       "      <td>0.081000</td>\n",
       "      <td>0.135000</td>\n",
       "      <td>11.500000</td>\n",
       "      <td>0</td>\n",
       "      <td>0</td>\n",
       "      <td>1</td>\n",
       "    </tr>\n",
       "    <tr>\n",
       "      <th>12</th>\n",
       "      <td>0.490000</td>\n",
       "      <td>0.380000</td>\n",
       "      <td>0.135000</td>\n",
       "      <td>0.541500</td>\n",
       "      <td>0.217500</td>\n",
       "      <td>0.095000</td>\n",
       "      <td>0.190000</td>\n",
       "      <td>12.500000</td>\n",
       "      <td>0</td>\n",
       "      <td>0</td>\n",
       "      <td>1</td>\n",
       "    </tr>\n",
       "    <tr>\n",
       "      <th>13</th>\n",
       "      <td>0.535000</td>\n",
       "      <td>0.405000</td>\n",
       "      <td>0.145000</td>\n",
       "      <td>0.684500</td>\n",
       "      <td>0.272500</td>\n",
       "      <td>0.171000</td>\n",
       "      <td>0.205000</td>\n",
       "      <td>11.500000</td>\n",
       "      <td>1</td>\n",
       "      <td>0</td>\n",
       "      <td>0</td>\n",
       "    </tr>\n",
       "    <tr>\n",
       "      <th>14</th>\n",
       "      <td>0.470000</td>\n",
       "      <td>0.355000</td>\n",
       "      <td>0.100000</td>\n",
       "      <td>0.475500</td>\n",
       "      <td>0.167500</td>\n",
       "      <td>0.080500</td>\n",
       "      <td>0.185000</td>\n",
       "      <td>11.500000</td>\n",
       "      <td>1</td>\n",
       "      <td>0</td>\n",
       "      <td>0</td>\n",
       "    </tr>\n",
       "    <tr>\n",
       "      <th>15</th>\n",
       "      <td>0.500000</td>\n",
       "      <td>0.400000</td>\n",
       "      <td>0.130000</td>\n",
       "      <td>0.664500</td>\n",
       "      <td>0.258000</td>\n",
       "      <td>0.133000</td>\n",
       "      <td>0.240000</td>\n",
       "      <td>13.500000</td>\n",
       "      <td>0</td>\n",
       "      <td>0</td>\n",
       "      <td>1</td>\n",
       "    </tr>\n",
       "    <tr>\n",
       "      <th>16</th>\n",
       "      <td>0.355000</td>\n",
       "      <td>0.280000</td>\n",
       "      <td>0.139516</td>\n",
       "      <td>0.290500</td>\n",
       "      <td>0.095000</td>\n",
       "      <td>0.180594</td>\n",
       "      <td>0.115000</td>\n",
       "      <td>8.500000</td>\n",
       "      <td>0</td>\n",
       "      <td>1</td>\n",
       "      <td>0</td>\n",
       "    </tr>\n",
       "    <tr>\n",
       "      <th>17</th>\n",
       "      <td>0.440000</td>\n",
       "      <td>0.340000</td>\n",
       "      <td>0.100000</td>\n",
       "      <td>0.451000</td>\n",
       "      <td>0.188000</td>\n",
       "      <td>0.087000</td>\n",
       "      <td>0.130000</td>\n",
       "      <td>11.500000</td>\n",
       "      <td>1</td>\n",
       "      <td>0</td>\n",
       "      <td>0</td>\n",
       "    </tr>\n",
       "    <tr>\n",
       "      <th>18</th>\n",
       "      <td>0.365000</td>\n",
       "      <td>0.295000</td>\n",
       "      <td>0.139516</td>\n",
       "      <td>0.255500</td>\n",
       "      <td>0.097000</td>\n",
       "      <td>0.180594</td>\n",
       "      <td>0.100000</td>\n",
       "      <td>8.500000</td>\n",
       "      <td>0</td>\n",
       "      <td>0</td>\n",
       "      <td>1</td>\n",
       "    </tr>\n",
       "    <tr>\n",
       "      <th>19</th>\n",
       "      <td>0.450000</td>\n",
       "      <td>0.320000</td>\n",
       "      <td>0.100000</td>\n",
       "      <td>0.381000</td>\n",
       "      <td>0.170500</td>\n",
       "      <td>0.075000</td>\n",
       "      <td>0.115000</td>\n",
       "      <td>10.500000</td>\n",
       "      <td>0</td>\n",
       "      <td>0</td>\n",
       "      <td>1</td>\n",
       "    </tr>\n",
       "    <tr>\n",
       "      <th>20</th>\n",
       "      <td>0.355000</td>\n",
       "      <td>0.280000</td>\n",
       "      <td>0.095000</td>\n",
       "      <td>0.245500</td>\n",
       "      <td>0.095500</td>\n",
       "      <td>0.062000</td>\n",
       "      <td>0.075000</td>\n",
       "      <td>12.500000</td>\n",
       "      <td>0</td>\n",
       "      <td>0</td>\n",
       "      <td>1</td>\n",
       "    </tr>\n",
       "    <tr>\n",
       "      <th>21</th>\n",
       "      <td>0.380000</td>\n",
       "      <td>0.275000</td>\n",
       "      <td>0.100000</td>\n",
       "      <td>0.225500</td>\n",
       "      <td>0.359367</td>\n",
       "      <td>0.049000</td>\n",
       "      <td>0.085000</td>\n",
       "      <td>11.500000</td>\n",
       "      <td>0</td>\n",
       "      <td>1</td>\n",
       "      <td>0</td>\n",
       "    </tr>\n",
       "    <tr>\n",
       "      <th>22</th>\n",
       "      <td>0.565000</td>\n",
       "      <td>0.440000</td>\n",
       "      <td>0.155000</td>\n",
       "      <td>0.939500</td>\n",
       "      <td>0.427500</td>\n",
       "      <td>0.214000</td>\n",
       "      <td>0.270000</td>\n",
       "      <td>13.500000</td>\n",
       "      <td>1</td>\n",
       "      <td>0</td>\n",
       "      <td>0</td>\n",
       "    </tr>\n",
       "    <tr>\n",
       "      <th>23</th>\n",
       "      <td>0.550000</td>\n",
       "      <td>0.415000</td>\n",
       "      <td>0.135000</td>\n",
       "      <td>0.763500</td>\n",
       "      <td>0.318000</td>\n",
       "      <td>0.210000</td>\n",
       "      <td>0.200000</td>\n",
       "      <td>10.500000</td>\n",
       "      <td>1</td>\n",
       "      <td>0</td>\n",
       "      <td>0</td>\n",
       "    </tr>\n",
       "    <tr>\n",
       "      <th>24</th>\n",
       "      <td>0.615000</td>\n",
       "      <td>0.480000</td>\n",
       "      <td>0.165000</td>\n",
       "      <td>1.161500</td>\n",
       "      <td>0.513000</td>\n",
       "      <td>0.301000</td>\n",
       "      <td>0.305000</td>\n",
       "      <td>11.500000</td>\n",
       "      <td>1</td>\n",
       "      <td>0</td>\n",
       "      <td>0</td>\n",
       "    </tr>\n",
       "    <tr>\n",
       "      <th>25</th>\n",
       "      <td>0.560000</td>\n",
       "      <td>0.440000</td>\n",
       "      <td>0.140000</td>\n",
       "      <td>0.928500</td>\n",
       "      <td>0.382500</td>\n",
       "      <td>0.188000</td>\n",
       "      <td>0.300000</td>\n",
       "      <td>12.500000</td>\n",
       "      <td>1</td>\n",
       "      <td>0</td>\n",
       "      <td>0</td>\n",
       "    </tr>\n",
       "    <tr>\n",
       "      <th>26</th>\n",
       "      <td>0.580000</td>\n",
       "      <td>0.450000</td>\n",
       "      <td>0.185000</td>\n",
       "      <td>0.995500</td>\n",
       "      <td>0.394500</td>\n",
       "      <td>0.272000</td>\n",
       "      <td>0.285000</td>\n",
       "      <td>12.500000</td>\n",
       "      <td>1</td>\n",
       "      <td>0</td>\n",
       "      <td>0</td>\n",
       "    </tr>\n",
       "    <tr>\n",
       "      <th>27</th>\n",
       "      <td>0.590000</td>\n",
       "      <td>0.445000</td>\n",
       "      <td>0.140000</td>\n",
       "      <td>0.931000</td>\n",
       "      <td>0.356000</td>\n",
       "      <td>0.234000</td>\n",
       "      <td>0.280000</td>\n",
       "      <td>13.500000</td>\n",
       "      <td>0</td>\n",
       "      <td>0</td>\n",
       "      <td>1</td>\n",
       "    </tr>\n",
       "    <tr>\n",
       "      <th>28</th>\n",
       "      <td>0.605000</td>\n",
       "      <td>0.475000</td>\n",
       "      <td>0.180000</td>\n",
       "      <td>0.936500</td>\n",
       "      <td>0.394000</td>\n",
       "      <td>0.219000</td>\n",
       "      <td>0.295000</td>\n",
       "      <td>11.433684</td>\n",
       "      <td>0</td>\n",
       "      <td>0</td>\n",
       "      <td>1</td>\n",
       "    </tr>\n",
       "    <tr>\n",
       "      <th>29</th>\n",
       "      <td>0.575000</td>\n",
       "      <td>0.425000</td>\n",
       "      <td>0.140000</td>\n",
       "      <td>0.863500</td>\n",
       "      <td>0.393000</td>\n",
       "      <td>0.227000</td>\n",
       "      <td>0.200000</td>\n",
       "      <td>12.500000</td>\n",
       "      <td>0</td>\n",
       "      <td>0</td>\n",
       "      <td>1</td>\n",
       "    </tr>\n",
       "    <tr>\n",
       "      <th>...</th>\n",
       "      <td>...</td>\n",
       "      <td>...</td>\n",
       "      <td>...</td>\n",
       "      <td>...</td>\n",
       "      <td>...</td>\n",
       "      <td>...</td>\n",
       "      <td>...</td>\n",
       "      <td>...</td>\n",
       "      <td>...</td>\n",
       "      <td>...</td>\n",
       "      <td>...</td>\n",
       "    </tr>\n",
       "    <tr>\n",
       "      <th>4147</th>\n",
       "      <td>0.523992</td>\n",
       "      <td>0.407881</td>\n",
       "      <td>0.139516</td>\n",
       "      <td>0.828742</td>\n",
       "      <td>0.359367</td>\n",
       "      <td>0.180594</td>\n",
       "      <td>0.238831</td>\n",
       "      <td>12.500000</td>\n",
       "      <td>0</td>\n",
       "      <td>0</td>\n",
       "      <td>1</td>\n",
       "    </tr>\n",
       "    <tr>\n",
       "      <th>4148</th>\n",
       "      <td>0.523992</td>\n",
       "      <td>0.407881</td>\n",
       "      <td>0.175000</td>\n",
       "      <td>0.828742</td>\n",
       "      <td>0.359367</td>\n",
       "      <td>0.180594</td>\n",
       "      <td>0.355000</td>\n",
       "      <td>12.500000</td>\n",
       "      <td>0</td>\n",
       "      <td>0</td>\n",
       "      <td>1</td>\n",
       "    </tr>\n",
       "    <tr>\n",
       "      <th>4149</th>\n",
       "      <td>0.523992</td>\n",
       "      <td>0.407881</td>\n",
       "      <td>0.139516</td>\n",
       "      <td>0.828742</td>\n",
       "      <td>0.359367</td>\n",
       "      <td>0.180594</td>\n",
       "      <td>0.238831</td>\n",
       "      <td>7.500000</td>\n",
       "      <td>0</td>\n",
       "      <td>1</td>\n",
       "      <td>0</td>\n",
       "    </tr>\n",
       "    <tr>\n",
       "      <th>4150</th>\n",
       "      <td>0.523992</td>\n",
       "      <td>0.407881</td>\n",
       "      <td>0.139516</td>\n",
       "      <td>0.828742</td>\n",
       "      <td>0.359367</td>\n",
       "      <td>0.180594</td>\n",
       "      <td>0.238831</td>\n",
       "      <td>8.500000</td>\n",
       "      <td>0</td>\n",
       "      <td>1</td>\n",
       "      <td>0</td>\n",
       "    </tr>\n",
       "    <tr>\n",
       "      <th>4151</th>\n",
       "      <td>0.523992</td>\n",
       "      <td>0.407881</td>\n",
       "      <td>0.139516</td>\n",
       "      <td>0.828742</td>\n",
       "      <td>0.359367</td>\n",
       "      <td>0.180594</td>\n",
       "      <td>0.238831</td>\n",
       "      <td>7.500000</td>\n",
       "      <td>0</td>\n",
       "      <td>1</td>\n",
       "      <td>0</td>\n",
       "    </tr>\n",
       "    <tr>\n",
       "      <th>4152</th>\n",
       "      <td>0.370000</td>\n",
       "      <td>0.280000</td>\n",
       "      <td>0.090000</td>\n",
       "      <td>0.218000</td>\n",
       "      <td>0.099500</td>\n",
       "      <td>0.054500</td>\n",
       "      <td>0.238831</td>\n",
       "      <td>8.500000</td>\n",
       "      <td>0</td>\n",
       "      <td>1</td>\n",
       "      <td>0</td>\n",
       "    </tr>\n",
       "    <tr>\n",
       "      <th>4153</th>\n",
       "      <td>0.430000</td>\n",
       "      <td>0.315000</td>\n",
       "      <td>0.115000</td>\n",
       "      <td>0.384000</td>\n",
       "      <td>0.188500</td>\n",
       "      <td>0.071500</td>\n",
       "      <td>0.110000</td>\n",
       "      <td>9.500000</td>\n",
       "      <td>0</td>\n",
       "      <td>1</td>\n",
       "      <td>0</td>\n",
       "    </tr>\n",
       "    <tr>\n",
       "      <th>4154</th>\n",
       "      <td>0.435000</td>\n",
       "      <td>0.330000</td>\n",
       "      <td>0.095000</td>\n",
       "      <td>0.393000</td>\n",
       "      <td>0.219000</td>\n",
       "      <td>0.075000</td>\n",
       "      <td>0.088500</td>\n",
       "      <td>7.500000</td>\n",
       "      <td>0</td>\n",
       "      <td>1</td>\n",
       "      <td>0</td>\n",
       "    </tr>\n",
       "    <tr>\n",
       "      <th>4155</th>\n",
       "      <td>0.440000</td>\n",
       "      <td>0.350000</td>\n",
       "      <td>0.110000</td>\n",
       "      <td>0.380500</td>\n",
       "      <td>0.157500</td>\n",
       "      <td>0.089500</td>\n",
       "      <td>0.115000</td>\n",
       "      <td>7.500000</td>\n",
       "      <td>0</td>\n",
       "      <td>1</td>\n",
       "      <td>0</td>\n",
       "    </tr>\n",
       "    <tr>\n",
       "      <th>4156</th>\n",
       "      <td>0.475000</td>\n",
       "      <td>0.370000</td>\n",
       "      <td>0.110000</td>\n",
       "      <td>0.489500</td>\n",
       "      <td>0.218500</td>\n",
       "      <td>0.107000</td>\n",
       "      <td>0.146000</td>\n",
       "      <td>9.500000</td>\n",
       "      <td>0</td>\n",
       "      <td>0</td>\n",
       "      <td>1</td>\n",
       "    </tr>\n",
       "    <tr>\n",
       "      <th>4157</th>\n",
       "      <td>0.475000</td>\n",
       "      <td>0.360000</td>\n",
       "      <td>0.140000</td>\n",
       "      <td>0.513500</td>\n",
       "      <td>0.241000</td>\n",
       "      <td>0.104500</td>\n",
       "      <td>0.155000</td>\n",
       "      <td>9.500000</td>\n",
       "      <td>0</td>\n",
       "      <td>0</td>\n",
       "      <td>1</td>\n",
       "    </tr>\n",
       "    <tr>\n",
       "      <th>4158</th>\n",
       "      <td>0.480000</td>\n",
       "      <td>0.355000</td>\n",
       "      <td>0.110000</td>\n",
       "      <td>0.449500</td>\n",
       "      <td>0.201000</td>\n",
       "      <td>0.089000</td>\n",
       "      <td>0.140000</td>\n",
       "      <td>9.500000</td>\n",
       "      <td>0</td>\n",
       "      <td>1</td>\n",
       "      <td>0</td>\n",
       "    </tr>\n",
       "    <tr>\n",
       "      <th>4159</th>\n",
       "      <td>0.560000</td>\n",
       "      <td>0.440000</td>\n",
       "      <td>0.135000</td>\n",
       "      <td>0.802500</td>\n",
       "      <td>0.350000</td>\n",
       "      <td>0.161500</td>\n",
       "      <td>0.259000</td>\n",
       "      <td>10.500000</td>\n",
       "      <td>1</td>\n",
       "      <td>0</td>\n",
       "      <td>0</td>\n",
       "    </tr>\n",
       "    <tr>\n",
       "      <th>4160</th>\n",
       "      <td>0.585000</td>\n",
       "      <td>0.475000</td>\n",
       "      <td>0.165000</td>\n",
       "      <td>1.053000</td>\n",
       "      <td>0.458000</td>\n",
       "      <td>0.217000</td>\n",
       "      <td>0.300000</td>\n",
       "      <td>12.500000</td>\n",
       "      <td>1</td>\n",
       "      <td>0</td>\n",
       "      <td>0</td>\n",
       "    </tr>\n",
       "    <tr>\n",
       "      <th>4161</th>\n",
       "      <td>0.585000</td>\n",
       "      <td>0.455000</td>\n",
       "      <td>0.170000</td>\n",
       "      <td>0.994500</td>\n",
       "      <td>0.425500</td>\n",
       "      <td>0.263000</td>\n",
       "      <td>0.284500</td>\n",
       "      <td>12.500000</td>\n",
       "      <td>1</td>\n",
       "      <td>0</td>\n",
       "      <td>0</td>\n",
       "    </tr>\n",
       "    <tr>\n",
       "      <th>4162</th>\n",
       "      <td>0.385000</td>\n",
       "      <td>0.407881</td>\n",
       "      <td>0.100000</td>\n",
       "      <td>0.317500</td>\n",
       "      <td>0.137000</td>\n",
       "      <td>0.068000</td>\n",
       "      <td>0.092000</td>\n",
       "      <td>9.500000</td>\n",
       "      <td>0</td>\n",
       "      <td>0</td>\n",
       "      <td>1</td>\n",
       "    </tr>\n",
       "    <tr>\n",
       "      <th>4163</th>\n",
       "      <td>0.390000</td>\n",
       "      <td>0.310000</td>\n",
       "      <td>0.139516</td>\n",
       "      <td>0.344000</td>\n",
       "      <td>0.181000</td>\n",
       "      <td>0.069500</td>\n",
       "      <td>0.079000</td>\n",
       "      <td>8.500000</td>\n",
       "      <td>0</td>\n",
       "      <td>1</td>\n",
       "      <td>0</td>\n",
       "    </tr>\n",
       "    <tr>\n",
       "      <th>4164</th>\n",
       "      <td>0.390000</td>\n",
       "      <td>0.290000</td>\n",
       "      <td>0.100000</td>\n",
       "      <td>0.284500</td>\n",
       "      <td>0.125500</td>\n",
       "      <td>0.063500</td>\n",
       "      <td>0.081000</td>\n",
       "      <td>8.500000</td>\n",
       "      <td>0</td>\n",
       "      <td>1</td>\n",
       "      <td>0</td>\n",
       "    </tr>\n",
       "    <tr>\n",
       "      <th>4165</th>\n",
       "      <td>0.405000</td>\n",
       "      <td>0.300000</td>\n",
       "      <td>0.139516</td>\n",
       "      <td>0.303500</td>\n",
       "      <td>0.150000</td>\n",
       "      <td>0.050500</td>\n",
       "      <td>0.088000</td>\n",
       "      <td>8.500000</td>\n",
       "      <td>0</td>\n",
       "      <td>1</td>\n",
       "      <td>0</td>\n",
       "    </tr>\n",
       "    <tr>\n",
       "      <th>4166</th>\n",
       "      <td>0.475000</td>\n",
       "      <td>0.365000</td>\n",
       "      <td>0.115000</td>\n",
       "      <td>0.499000</td>\n",
       "      <td>0.232000</td>\n",
       "      <td>0.088500</td>\n",
       "      <td>0.156000</td>\n",
       "      <td>11.500000</td>\n",
       "      <td>0</td>\n",
       "      <td>1</td>\n",
       "      <td>0</td>\n",
       "    </tr>\n",
       "    <tr>\n",
       "      <th>4167</th>\n",
       "      <td>0.500000</td>\n",
       "      <td>0.380000</td>\n",
       "      <td>0.125000</td>\n",
       "      <td>0.577000</td>\n",
       "      <td>0.269000</td>\n",
       "      <td>0.126500</td>\n",
       "      <td>0.153500</td>\n",
       "      <td>10.500000</td>\n",
       "      <td>0</td>\n",
       "      <td>0</td>\n",
       "      <td>1</td>\n",
       "    </tr>\n",
       "    <tr>\n",
       "      <th>4168</th>\n",
       "      <td>0.515000</td>\n",
       "      <td>0.400000</td>\n",
       "      <td>0.125000</td>\n",
       "      <td>0.615000</td>\n",
       "      <td>0.286500</td>\n",
       "      <td>0.123000</td>\n",
       "      <td>0.176500</td>\n",
       "      <td>9.500000</td>\n",
       "      <td>1</td>\n",
       "      <td>0</td>\n",
       "      <td>0</td>\n",
       "    </tr>\n",
       "    <tr>\n",
       "      <th>4169</th>\n",
       "      <td>0.520000</td>\n",
       "      <td>0.385000</td>\n",
       "      <td>0.165000</td>\n",
       "      <td>0.791000</td>\n",
       "      <td>0.375000</td>\n",
       "      <td>0.180000</td>\n",
       "      <td>0.181500</td>\n",
       "      <td>11.500000</td>\n",
       "      <td>0</td>\n",
       "      <td>0</td>\n",
       "      <td>1</td>\n",
       "    </tr>\n",
       "    <tr>\n",
       "      <th>4170</th>\n",
       "      <td>0.550000</td>\n",
       "      <td>0.430000</td>\n",
       "      <td>0.130000</td>\n",
       "      <td>0.839500</td>\n",
       "      <td>0.315500</td>\n",
       "      <td>0.195500</td>\n",
       "      <td>0.240500</td>\n",
       "      <td>11.500000</td>\n",
       "      <td>0</td>\n",
       "      <td>0</td>\n",
       "      <td>1</td>\n",
       "    </tr>\n",
       "    <tr>\n",
       "      <th>4171</th>\n",
       "      <td>0.560000</td>\n",
       "      <td>0.430000</td>\n",
       "      <td>0.155000</td>\n",
       "      <td>0.867500</td>\n",
       "      <td>0.400000</td>\n",
       "      <td>0.172000</td>\n",
       "      <td>0.229000</td>\n",
       "      <td>9.500000</td>\n",
       "      <td>0</td>\n",
       "      <td>0</td>\n",
       "      <td>1</td>\n",
       "    </tr>\n",
       "    <tr>\n",
       "      <th>4172</th>\n",
       "      <td>0.565000</td>\n",
       "      <td>0.450000</td>\n",
       "      <td>0.165000</td>\n",
       "      <td>0.887000</td>\n",
       "      <td>0.370000</td>\n",
       "      <td>0.239000</td>\n",
       "      <td>0.249000</td>\n",
       "      <td>12.500000</td>\n",
       "      <td>1</td>\n",
       "      <td>0</td>\n",
       "      <td>0</td>\n",
       "    </tr>\n",
       "    <tr>\n",
       "      <th>4173</th>\n",
       "      <td>0.590000</td>\n",
       "      <td>0.440000</td>\n",
       "      <td>0.135000</td>\n",
       "      <td>0.966000</td>\n",
       "      <td>0.439000</td>\n",
       "      <td>0.214500</td>\n",
       "      <td>0.260500</td>\n",
       "      <td>11.500000</td>\n",
       "      <td>0</td>\n",
       "      <td>0</td>\n",
       "      <td>1</td>\n",
       "    </tr>\n",
       "    <tr>\n",
       "      <th>4174</th>\n",
       "      <td>0.600000</td>\n",
       "      <td>0.475000</td>\n",
       "      <td>0.139516</td>\n",
       "      <td>1.176000</td>\n",
       "      <td>0.525500</td>\n",
       "      <td>0.287500</td>\n",
       "      <td>0.308000</td>\n",
       "      <td>10.500000</td>\n",
       "      <td>0</td>\n",
       "      <td>0</td>\n",
       "      <td>1</td>\n",
       "    </tr>\n",
       "    <tr>\n",
       "      <th>4175</th>\n",
       "      <td>0.625000</td>\n",
       "      <td>0.485000</td>\n",
       "      <td>0.150000</td>\n",
       "      <td>1.094500</td>\n",
       "      <td>0.531000</td>\n",
       "      <td>0.261000</td>\n",
       "      <td>0.296000</td>\n",
       "      <td>11.500000</td>\n",
       "      <td>1</td>\n",
       "      <td>0</td>\n",
       "      <td>0</td>\n",
       "    </tr>\n",
       "    <tr>\n",
       "      <th>4176</th>\n",
       "      <td>0.523992</td>\n",
       "      <td>0.407881</td>\n",
       "      <td>0.139516</td>\n",
       "      <td>0.828742</td>\n",
       "      <td>0.359367</td>\n",
       "      <td>0.180594</td>\n",
       "      <td>0.238831</td>\n",
       "      <td>13.500000</td>\n",
       "      <td>0</td>\n",
       "      <td>0</td>\n",
       "      <td>1</td>\n",
       "    </tr>\n",
       "  </tbody>\n",
       "</table>\n",
       "<p>4177 rows × 11 columns</p>\n",
       "</div>"
      ],
      "text/plain": [
       "        Length  Diameter    Height  Whole weight  Shucked weight  \\\n",
       "0     0.455000  0.365000  0.095000      0.514000        0.224500   \n",
       "1     0.523992  0.265000  0.090000      0.225500        0.099500   \n",
       "2     0.530000  0.420000  0.135000      0.677000        0.256500   \n",
       "3     0.440000  0.365000  0.125000      0.516000        0.215500   \n",
       "4     0.523992  0.407881  0.139516      0.205000        0.089500   \n",
       "5     0.425000  0.300000  0.095000      0.351500        0.141000   \n",
       "6     0.530000  0.415000  0.150000      0.777500        0.237000   \n",
       "7     0.545000  0.425000  0.125000      0.768000        0.294000   \n",
       "8     0.475000  0.370000  0.125000      0.509500        0.216500   \n",
       "9     0.550000  0.440000  0.150000      0.894500        0.314500   \n",
       "10    0.525000  0.380000  0.140000      0.606500        0.194000   \n",
       "11    0.430000  0.350000  0.110000      0.406000        0.167500   \n",
       "12    0.490000  0.380000  0.135000      0.541500        0.217500   \n",
       "13    0.535000  0.405000  0.145000      0.684500        0.272500   \n",
       "14    0.470000  0.355000  0.100000      0.475500        0.167500   \n",
       "15    0.500000  0.400000  0.130000      0.664500        0.258000   \n",
       "16    0.355000  0.280000  0.139516      0.290500        0.095000   \n",
       "17    0.440000  0.340000  0.100000      0.451000        0.188000   \n",
       "18    0.365000  0.295000  0.139516      0.255500        0.097000   \n",
       "19    0.450000  0.320000  0.100000      0.381000        0.170500   \n",
       "20    0.355000  0.280000  0.095000      0.245500        0.095500   \n",
       "21    0.380000  0.275000  0.100000      0.225500        0.359367   \n",
       "22    0.565000  0.440000  0.155000      0.939500        0.427500   \n",
       "23    0.550000  0.415000  0.135000      0.763500        0.318000   \n",
       "24    0.615000  0.480000  0.165000      1.161500        0.513000   \n",
       "25    0.560000  0.440000  0.140000      0.928500        0.382500   \n",
       "26    0.580000  0.450000  0.185000      0.995500        0.394500   \n",
       "27    0.590000  0.445000  0.140000      0.931000        0.356000   \n",
       "28    0.605000  0.475000  0.180000      0.936500        0.394000   \n",
       "29    0.575000  0.425000  0.140000      0.863500        0.393000   \n",
       "...        ...       ...       ...           ...             ...   \n",
       "4147  0.523992  0.407881  0.139516      0.828742        0.359367   \n",
       "4148  0.523992  0.407881  0.175000      0.828742        0.359367   \n",
       "4149  0.523992  0.407881  0.139516      0.828742        0.359367   \n",
       "4150  0.523992  0.407881  0.139516      0.828742        0.359367   \n",
       "4151  0.523992  0.407881  0.139516      0.828742        0.359367   \n",
       "4152  0.370000  0.280000  0.090000      0.218000        0.099500   \n",
       "4153  0.430000  0.315000  0.115000      0.384000        0.188500   \n",
       "4154  0.435000  0.330000  0.095000      0.393000        0.219000   \n",
       "4155  0.440000  0.350000  0.110000      0.380500        0.157500   \n",
       "4156  0.475000  0.370000  0.110000      0.489500        0.218500   \n",
       "4157  0.475000  0.360000  0.140000      0.513500        0.241000   \n",
       "4158  0.480000  0.355000  0.110000      0.449500        0.201000   \n",
       "4159  0.560000  0.440000  0.135000      0.802500        0.350000   \n",
       "4160  0.585000  0.475000  0.165000      1.053000        0.458000   \n",
       "4161  0.585000  0.455000  0.170000      0.994500        0.425500   \n",
       "4162  0.385000  0.407881  0.100000      0.317500        0.137000   \n",
       "4163  0.390000  0.310000  0.139516      0.344000        0.181000   \n",
       "4164  0.390000  0.290000  0.100000      0.284500        0.125500   \n",
       "4165  0.405000  0.300000  0.139516      0.303500        0.150000   \n",
       "4166  0.475000  0.365000  0.115000      0.499000        0.232000   \n",
       "4167  0.500000  0.380000  0.125000      0.577000        0.269000   \n",
       "4168  0.515000  0.400000  0.125000      0.615000        0.286500   \n",
       "4169  0.520000  0.385000  0.165000      0.791000        0.375000   \n",
       "4170  0.550000  0.430000  0.130000      0.839500        0.315500   \n",
       "4171  0.560000  0.430000  0.155000      0.867500        0.400000   \n",
       "4172  0.565000  0.450000  0.165000      0.887000        0.370000   \n",
       "4173  0.590000  0.440000  0.135000      0.966000        0.439000   \n",
       "4174  0.600000  0.475000  0.139516      1.176000        0.525500   \n",
       "4175  0.625000  0.485000  0.150000      1.094500        0.531000   \n",
       "4176  0.523992  0.407881  0.139516      0.828742        0.359367   \n",
       "\n",
       "      Viscera weight  Shell weight        age  Sex_F  Sex_I  Sex_M  \n",
       "0           0.101000      0.150000  11.433684      0      0      1  \n",
       "1           0.048500      0.070000   8.500000      0      0      1  \n",
       "2           0.141500      0.210000  10.500000      1      0      0  \n",
       "3           0.114000      0.155000  11.500000      0      0      1  \n",
       "4           0.180594      0.238831   8.500000      0      1      0  \n",
       "5           0.077500      0.120000   9.500000      0      1      0  \n",
       "6           0.141500      0.330000  11.433684      1      0      0  \n",
       "7           0.149500      0.260000  11.433684      1      0      0  \n",
       "8           0.112500      0.165000  10.500000      0      0      1  \n",
       "9           0.151000      0.320000  11.433684      1      0      0  \n",
       "10          0.147500      0.210000  15.500000      1      0      0  \n",
       "11          0.081000      0.135000  11.500000      0      0      1  \n",
       "12          0.095000      0.190000  12.500000      0      0      1  \n",
       "13          0.171000      0.205000  11.500000      1      0      0  \n",
       "14          0.080500      0.185000  11.500000      1      0      0  \n",
       "15          0.133000      0.240000  13.500000      0      0      1  \n",
       "16          0.180594      0.115000   8.500000      0      1      0  \n",
       "17          0.087000      0.130000  11.500000      1      0      0  \n",
       "18          0.180594      0.100000   8.500000      0      0      1  \n",
       "19          0.075000      0.115000  10.500000      0      0      1  \n",
       "20          0.062000      0.075000  12.500000      0      0      1  \n",
       "21          0.049000      0.085000  11.500000      0      1      0  \n",
       "22          0.214000      0.270000  13.500000      1      0      0  \n",
       "23          0.210000      0.200000  10.500000      1      0      0  \n",
       "24          0.301000      0.305000  11.500000      1      0      0  \n",
       "25          0.188000      0.300000  12.500000      1      0      0  \n",
       "26          0.272000      0.285000  12.500000      1      0      0  \n",
       "27          0.234000      0.280000  13.500000      0      0      1  \n",
       "28          0.219000      0.295000  11.433684      0      0      1  \n",
       "29          0.227000      0.200000  12.500000      0      0      1  \n",
       "...              ...           ...        ...    ...    ...    ...  \n",
       "4147        0.180594      0.238831  12.500000      0      0      1  \n",
       "4148        0.180594      0.355000  12.500000      0      0      1  \n",
       "4149        0.180594      0.238831   7.500000      0      1      0  \n",
       "4150        0.180594      0.238831   8.500000      0      1      0  \n",
       "4151        0.180594      0.238831   7.500000      0      1      0  \n",
       "4152        0.054500      0.238831   8.500000      0      1      0  \n",
       "4153        0.071500      0.110000   9.500000      0      1      0  \n",
       "4154        0.075000      0.088500   7.500000      0      1      0  \n",
       "4155        0.089500      0.115000   7.500000      0      1      0  \n",
       "4156        0.107000      0.146000   9.500000      0      0      1  \n",
       "4157        0.104500      0.155000   9.500000      0      0      1  \n",
       "4158        0.089000      0.140000   9.500000      0      1      0  \n",
       "4159        0.161500      0.259000  10.500000      1      0      0  \n",
       "4160        0.217000      0.300000  12.500000      1      0      0  \n",
       "4161        0.263000      0.284500  12.500000      1      0      0  \n",
       "4162        0.068000      0.092000   9.500000      0      0      1  \n",
       "4163        0.069500      0.079000   8.500000      0      1      0  \n",
       "4164        0.063500      0.081000   8.500000      0      1      0  \n",
       "4165        0.050500      0.088000   8.500000      0      1      0  \n",
       "4166        0.088500      0.156000  11.500000      0      1      0  \n",
       "4167        0.126500      0.153500  10.500000      0      0      1  \n",
       "4168        0.123000      0.176500   9.500000      1      0      0  \n",
       "4169        0.180000      0.181500  11.500000      0      0      1  \n",
       "4170        0.195500      0.240500  11.500000      0      0      1  \n",
       "4171        0.172000      0.229000   9.500000      0      0      1  \n",
       "4172        0.239000      0.249000  12.500000      1      0      0  \n",
       "4173        0.214500      0.260500  11.500000      0      0      1  \n",
       "4174        0.287500      0.308000  10.500000      0      0      1  \n",
       "4175        0.261000      0.296000  11.500000      1      0      0  \n",
       "4176        0.180594      0.238831  13.500000      0      0      1  \n",
       "\n",
       "[4177 rows x 11 columns]"
      ]
     },
     "execution_count": 34,
     "metadata": {},
     "output_type": "execute_result"
    }
   ],
   "source": [
    "# Copy the dataframe\n",
    "df1 = df.copy()\n",
    "\n",
    "# Remove numerical outliers in the columns by quantile\n",
    "for col in df1:\n",
    "    if df1[col].dtype == 'int64' or df1[col].dtype == 'float64':\n",
    "        \n",
    "      # Set quantile limits and replacement mean\n",
    "      upper_limit = df1[col].quantile(.90)\n",
    "      lower_limit = df1[col].quantile(.10)\n",
    "      mean = df1[col].mean()\n",
    "    \n",
    "      # replace outliers\n",
    "      for index,value in enumerate(df1[col]):\n",
    "        if value > upper_limit: df1.loc[index,col] = mean\n",
    "        if value < lower_limit: df1.loc[index,col] = mean\n",
    "\n",
    "# View the dataframe\n",
    "df1"
   ]
  },
  {
   "cell_type": "code",
   "execution_count": 35,
   "metadata": {},
   "outputs": [
    {
     "data": {
      "text/plain": [
       "<matplotlib.axes._subplots.AxesSubplot at 0x23ed51cdda0>"
      ]
     },
     "execution_count": 35,
     "metadata": {},
     "output_type": "execute_result"
    },
    {
     "data": {
      "image/png": "[encoded data removed]",
      "text/plain": [
       "<Figure size 1440x360 with 1 Axes>"
      ]
     },
     "metadata": {
      "needs_background": "light"
     },
     "output_type": "display_data"
    }
   ],
   "source": [
    "df1.boxplot( rot = 90, figsize=(20,5))"
   ]
  },
  {
   "cell_type": "code",
   "execution_count": 37,
   "metadata": {},
   "outputs": [
    {
     "name": "stdout",
     "output_type": "stream",
     "text": [
      "Length           -0.353135\n",
      "Diameter         -0.388356\n",
      "Height           -0.195763\n",
      "Whole weight      0.027176\n",
      "Shucked weight    0.102408\n",
      "Viscera weight    0.090468\n",
      "Shell weight      0.018774\n",
      "age               0.182742\n",
      "Sex_F             0.807302\n",
      "Sex_I             0.765708\n",
      "Sex_M             0.557390\n",
      "dtype: float64\n"
     ]
    }
   ],
   "source": [
    "print(df1.skew())"
   ]
  },
  {
   "cell_type": "code",
   "execution_count": 47,
   "metadata": {},
   "outputs": [
    {
     "data": {
      "text/plain": [
       "Text(0, 0.5, 'Age')"
      ]
     },
     "execution_count": 47,
     "metadata": {},
     "output_type": "execute_result"
    },
    {
     "data": {
      "image/png": "[encoded data removed]",
      "text/plain": [
       "<Figure size 432x288 with 1 Axes>"
      ]
     },
     "metadata": {
      "needs_background": "light"
     },
     "output_type": "display_data"
    }
   ],
   "source": [
    "fig = plt.figure()\n",
    "\n",
    "fig.add_subplot(1,4,1) \n",
    "\n",
    "plt.scatter(x = df1['Shell weight'], y = df1['age'], color='blue')\n",
    "plt.grid(True)\n",
    "plt.title('Shell_weight wrt Age (Distribution)')\n",
    "plt.xlabel(\"Shell Weight\")\n",
    "plt.ylabel(\"Age\")\n"
   ]
  },
  {
   "cell_type": "code",
   "execution_count": 56,
   "metadata": {},
   "outputs": [
    {
     "data": {
      "text/plain": [
       "Text(0, 0.5, 'Age')"
      ]
     },
     "execution_count": 56,
     "metadata": {},
     "output_type": "execute_result"
    },
    {
     "data": {
      "image/png": "[encoded data removed]",
      "text/plain": [
       "<Figure size 432x288 with 1 Axes>"
      ]
     },
     "metadata": {
      "needs_background": "light"
     },
     "output_type": "display_data"
    }
   ],
   "source": [
    "fig = plt.figure()\n",
    "fig.add_subplot(1,5,4)\n",
    "\n",
    "plt.scatter(x = df1['Viscera weight'], y = df1['age'], color='orange')\n",
    "plt.grid(True)\n",
    "plt.title('Viscera_weight Vs Age')\n",
    "plt.xlabel(\"Viscera_weight\")\n",
    "plt.ylabel(\"Age\")"
   ]
  },
  {
   "cell_type": "code",
   "execution_count": 51,
   "metadata": {},
   "outputs": [
    {
     "data": {
      "text/plain": [
       "<matplotlib.axes._subplots.AxesSubplot at 0x23ed58c2b00>"
      ]
     },
     "execution_count": 51,
     "metadata": {},
     "output_type": "execute_result"
    },
    {
     "data": {
      "image/png": "[encoded data removed]",
      "text/plain": [
       "<Figure size 432x288 with 1 Axes>"
      ]
     },
     "metadata": {
      "needs_background": "light"
     },
     "output_type": "display_data"
    }
   ],
   "source": [
    "fig.add_subplot(2,4,2)\n",
    "\n",
    "plt.scatter(x = df1['Height'], y = df1['age'], color='pink')\n",
    "plt.grid(True)\n",
    "plt.title('Height wrt Age (Distribution)')\n",
    "plt.xlabel(\"Height\")\n",
    "fig.add_subplot(2,4,3)\n",
    "\n"
   ]
  },
  {
   "cell_type": "code",
   "execution_count": 52,
   "metadata": {},
   "outputs": [
    {
     "data": {
      "text/plain": [
       "Text(0, 0.5, 'Age')"
      ]
     },
     "execution_count": 52,
     "metadata": {},
     "output_type": "execute_result"
    },
    {
     "data": {
      "image/png": "[encoded data removed]",
      "text/plain": [
       "<Figure size 432x288 with 1 Axes>"
      ]
     },
     "metadata": {
      "needs_background": "light"
     },
     "output_type": "display_data"
    }
   ],
   "source": [
    "plt.scatter(x = df1['Diameter'], y = df1['age'], color='Blue')\n",
    "plt.grid(True)\n",
    "plt.title('Height Vs Age')\n",
    "plt.xlabel(\"Diameter\")\n",
    "plt.ylabel(\"Age\")\n",
    "#plt.ylabel(\"Age\")\n"
   ]
  },
  {
   "cell_type": "code",
   "execution_count": 57,
   "metadata": {},
   "outputs": [],
   "source": [
    " x = df1.drop('age', axis = 1)\n",
    "y = df1['age']"
   ]
  },
  {
   "cell_type": "code",
   "execution_count": 58,
   "metadata": {},
   "outputs": [],
   "source": [
    "from sklearn.preprocessing import  StandardScaler\n",
    "from sklearn.feature_selection import SelectKBest\n",
    "from sklearn.model_selection import  train_test_split, cross_val_score\n",
    "from sklearn.metrics import mean_absolute_error\n",
    "from sklearn.metrics import mean_squared_error\n",
    "from sklearn.metrics import r2_score\n",
    "from sklearn import metrics"
   ]
  },
  {
   "cell_type": "code",
   "execution_count": 60,
   "metadata": {},
   "outputs": [],
   "source": [
    "ss = StandardScaler()\n",
    "ss.fit_transform(x)\n",
    "\n",
    "selectkBest = SelectKBest()\n",
    "x_new = selectkBest.fit_transform(x, y)"
   ]
  },
  {
   "cell_type": "code",
   "execution_count": 63,
   "metadata": {},
   "outputs": [],
   "source": [
    "x_train, x_test, y_train, y_test = train_test_split(x_new, y, test_size = 0.23, random_state=42)"
   ]
  },
  {
   "cell_type": "code",
   "execution_count": 64,
   "metadata": {},
   "outputs": [],
   "source": [
    "from sklearn.neighbors import KNeighborsRegressor\n",
    "from sklearn.ensemble import  RandomForestRegressor\n",
    "from sklearn.ensemble import  GradientBoostingRegressor\n",
    "from sklearn.linear_model import LinearRegression\n",
    "from sklearn.linear_model import  Ridge\n",
    "from sklearn.svm import SVR\n",
    "from sklearn.linear_model import ElasticNet"
   ]
  },
  {
   "cell_type": "markdown",
   "metadata": {},
   "source": [
    "# Linear Regression Prediction"
   ]
  },
  {
   "cell_type": "code",
   "execution_count": 66,
   "metadata": {},
   "outputs": [
    {
     "data": {
      "text/plain": [
       "LinearRegression(copy_X=True, fit_intercept=True, n_jobs=None, normalize=False)"
      ]
     },
     "execution_count": 66,
     "metadata": {},
     "output_type": "execute_result"
    }
   ],
   "source": [
    "reg = LinearRegression()\n",
    "reg.fit(x_train, y_train)"
   ]
  },
  {
   "cell_type": "code",
   "execution_count": 67,
   "metadata": {},
   "outputs": [
    {
     "name": "stdout",
     "output_type": "stream",
     "text": [
      "Linear Regression Intercept:  7.281750884518793\n",
      "Linear Regression coefficient:  [ 1.0584314   2.29569478 12.85093982 -0.22831838 -2.78637925  0.71095212\n",
      "  6.30947773  0.43842496 -0.71291887  0.27449391]\n"
     ]
    }
   ],
   "source": [
    "print(\"Linear Regression Intercept: \", reg.intercept_)\n",
    "print(\"Linear Regression coefficient: \", reg.coef_)"
   ]
  },
  {
   "cell_type": "code",
   "execution_count": 90,
   "metadata": {},
   "outputs": [
    {
     "name": "stdout",
     "output_type": "stream",
     "text": [
      "r2 score:  0.2742857181773034\n",
      "Mean Absolute Error: 1.2623424616894592\n",
      "Mean Squared Error: 2.5317876662619128\n",
      "Root Mean Squared Error: 1.5911592209021423\n"
     ]
    }
   ],
   "source": [
    "y_pred = reg.predict(x_test)\n",
    "r2_scr_reg=r2_score(y_test,y_pred)\n",
    "\n",
    "A= r2_scr_reg\n",
    "print(\"r2 score: \",r2_scr_reg)\n",
    "print('Mean Absolute Error:', metrics.mean_absolute_error(y_test, y_pred))  \n",
    "print('Mean Squared Error:', metrics.mean_squared_error(y_test, y_pred))  \n",
    "print('Root Mean Squared Error:', np.sqrt(metrics.mean_squared_error(y_test, y_pred)))\n",
    "A1=np.sqrt(metrics.mean_squared_error(y_test, y_pred))"
   ]
  },
  {
   "cell_type": "markdown",
   "metadata": {},
   "source": [
    "# k-nearest Algorithm"
   ]
  },
  {
   "cell_type": "code",
   "execution_count": 73,
   "metadata": {},
   "outputs": [
    {
     "data": {
      "text/plain": [
       "KNeighborsRegressor(algorithm='auto', leaf_size=30, metric='minkowski',\n",
       "                    metric_params=None, n_jobs=None, n_neighbors=5, p=2,\n",
       "                    weights='uniform')"
      ]
     },
     "execution_count": 73,
     "metadata": {},
     "output_type": "execute_result"
    }
   ],
   "source": [
    "knn=KNeighborsRegressor()\n",
    "knn.fit(x_train, y_train)"
   ]
  },
  {
   "cell_type": "code",
   "execution_count": 91,
   "metadata": {},
   "outputs": [
    {
     "name": "stdout",
     "output_type": "stream",
     "text": [
      "r2 score:  0.29581445781434346\n",
      "Mean Absolute Error: 1.2320753584180948\n",
      "Mean Squared Error: 2.4566807008232217\n",
      "Root Mean Squared Error: 1.5673802030213415\n"
     ]
    }
   ],
   "source": [
    "y_pred = knn.predict(x_test)\n",
    "r2_scr_knn=r2_score(y_test,y_pred)\n",
    "print(\"r2 score: \",r2_scr_knn)\n",
    "\n",
    "B=r2_scr_knn\n",
    "print('Mean Absolute Error:', metrics.mean_absolute_error(y_test, y_pred))  \n",
    "print('Mean Squared Error:', metrics.mean_squared_error(y_test, y_pred))  \n",
    "print('Root Mean Squared Error:', np.sqrt(metrics.mean_squared_error(y_test, y_pred)))\n",
    "B1=np.sqrt(metrics.mean_squared_error(y_test, y_pred))"
   ]
  },
  {
   "cell_type": "markdown",
   "metadata": {},
   "source": [
    "# Ridge "
   ]
  },
  {
   "cell_type": "code",
   "execution_count": 71,
   "metadata": {},
   "outputs": [
    {
     "data": {
      "text/plain": [
       "Ridge(alpha=1.0, copy_X=True, fit_intercept=True, max_iter=None,\n",
       "      normalize=False, random_state=None, solver='auto', tol=0.001)"
      ]
     },
     "execution_count": 71,
     "metadata": {},
     "output_type": "execute_result"
    }
   ],
   "source": [
    "rg = Ridge()\n",
    "rg.fit(x_train, y_train)"
   ]
  },
  {
   "cell_type": "code",
   "execution_count": 93,
   "metadata": {},
   "outputs": [
    {
     "name": "stdout",
     "output_type": "stream",
     "text": [
      "r2 score:  0.2750831268184153\n",
      "Mean Absolute Error: 1.258618739860334\n",
      "Mean Squared Error: 2.529005759645073\n",
      "Root Mean Squared Error: 1.590284804569632\n"
     ]
    }
   ],
   "source": [
    "y_pred = rg.predict(x_test)\n",
    "r2_scr_r=r2_score(y_test,y_pred)\n",
    "print(\"r2 score: \",r2_scr_r)\n",
    "\n",
    "C=r2_scr_r\n",
    "print('Mean Absolute Error:', metrics.mean_absolute_error(y_test, y_pred))  \n",
    "print('Mean Squared Error:', metrics.mean_squared_error(y_test, y_pred))  \n",
    "print('Root Mean Squared Error:', np.sqrt(metrics.mean_squared_error(y_test, y_pred)))\n",
    "C1=np.sqrt(metrics.mean_squared_error(y_test, y_pred))"
   ]
  },
  {
   "cell_type": "markdown",
   "metadata": {},
   "source": [
    "# SVR"
   ]
  },
  {
   "cell_type": "code",
   "execution_count": 95,
   "metadata": {},
   "outputs": [
    {
     "data": {
      "text/plain": [
       "SVR(C=1.0, cache_size=200, coef0=0.0, degree=3, epsilon=0.1,\n",
       "    gamma='auto_deprecated', kernel='rbf', max_iter=-1, shrinking=True,\n",
       "    tol=0.001, verbose=False)"
      ]
     },
     "execution_count": 95,
     "metadata": {},
     "output_type": "execute_result"
    }
   ],
   "source": [
    "svm=SVR()\n",
    "svm.fit(x_train, y_train)"
   ]
  },
  {
   "cell_type": "code",
   "execution_count": 96,
   "metadata": {},
   "outputs": [
    {
     "name": "stdout",
     "output_type": "stream",
     "text": [
      "r2 score:  0.25102526159856187\n",
      "Mean Absolute Error: 1.2081063719818528\n",
      "Mean Squared Error: 2.612936044560008\n",
      "Root Mean Squared Error: 1.6164578697139025\n"
     ]
    }
   ],
   "source": [
    "y_pred = svm.predict(x_test)\n",
    "r2_scr_svr=r2_score(y_test,y_pred)\n",
    "print(\"r2 score: \",r2_scr_svr)\n",
    "\n",
    "D=r2_scr_svr\n",
    "print('Mean Absolute Error:', metrics.mean_absolute_error(y_test, y_pred))  \n",
    "print('Mean Squared Error:', metrics.mean_squared_error(y_test, y_pred))  \n",
    "print('Root Mean Squared Error:', np.sqrt(metrics.mean_squared_error(y_test, y_pred)))\n",
    "\n",
    "D1=np.sqrt(metrics.mean_squared_error(y_test, y_pred))"
   ]
  },
  {
   "cell_type": "markdown",
   "metadata": {},
   "source": [
    "# Gradient Boosting Regressor"
   ]
  },
  {
   "cell_type": "code",
   "execution_count": 76,
   "metadata": {},
   "outputs": [
    {
     "data": {
      "text/plain": [
       "GradientBoostingRegressor(alpha=0.9, criterion='friedman_mse', init=None,\n",
       "                          learning_rate=0.1, loss='ls', max_depth=3,\n",
       "                          max_features=None, max_leaf_nodes=None,\n",
       "                          min_impurity_decrease=0.0, min_impurity_split=None,\n",
       "                          min_samples_leaf=1, min_samples_split=2,\n",
       "                          min_weight_fraction_leaf=0.0, n_estimators=100,\n",
       "                          n_iter_no_change=None, presort='auto',\n",
       "                          random_state=None, subsample=1.0, tol=0.0001,\n",
       "                          validation_fraction=0.1, verbose=0, warm_start=False)"
      ]
     },
     "execution_count": 76,
     "metadata": {},
     "output_type": "execute_result"
    }
   ],
   "source": [
    "gbr= GradientBoostingRegressor()\n",
    "gbr.fit(x_train, y_train)"
   ]
  },
  {
   "cell_type": "code",
   "execution_count": 97,
   "metadata": {},
   "outputs": [
    {
     "name": "stdout",
     "output_type": "stream",
     "text": [
      "r2 score:  0.32822959886125225\n",
      "Mean Absolute Error: 1.2125509510782488\n",
      "Mean Squared Error: 2.34359452302804\n",
      "Root Mean Squared Error: 1.5308803098309287\n"
     ]
    }
   ],
   "source": [
    "y_pred = gbr.predict(x_test)\n",
    "r2_scr_gbr=r2_score(y_test,y_pred)\n",
    "print(\"r2 score: \",r2_scr_gbr)\n",
    "E=r2_scr_gbr\n",
    "print('Mean Absolute Error:', metrics.mean_absolute_error(y_test, y_pred))  \n",
    "print('Mean Squared Error:', metrics.mean_squared_error(y_test, y_pred))  \n",
    "print('Root Mean Squared Error:', np.sqrt(metrics.mean_squared_error(y_test, y_pred)))\n",
    "E1=np.sqrt(metrics.mean_squared_error(y_test, y_pred))"
   ]
  },
  {
   "cell_type": "markdown",
   "metadata": {},
   "source": [
    "# GrideSearchCV"
   ]
  },
  {
   "cell_type": "code",
   "execution_count": 81,
   "metadata": {},
   "outputs": [
    {
     "data": {
      "text/plain": [
       "({'alpha': 0.1, 'solver': 'svd'}, 0.2744685662099187)"
      ]
     },
     "execution_count": 81,
     "metadata": {},
     "output_type": "execute_result"
    }
   ],
   "source": [
    "from sklearn.model_selection import  GridSearchCV\n",
    "\n",
    "\n",
    "param  = {'alpha':[0.01, 0.1, 1,10,100],\n",
    "         'solver' : ['auto', 'svd', 'cholesky', 'lsqr', 'sparse_cg', 'sag', 'saga']}\n",
    "\n",
    "gsr = GridSearchCV(estimator = Ridge(random_state=10,),\n",
    "param_grid = param,scoring= 'r2' ,cv = 10,  n_jobs = -1)\n",
    "gsr.fit(x_train, y_train)\n",
    "gsr.best_params_, gsr.best_score_"
   ]
  },
  {
   "cell_type": "code",
   "execution_count": 82,
   "metadata": {},
   "outputs": [
    {
     "data": {
      "text/plain": [
       "Ridge(alpha=1.0, copy_X=True, fit_intercept=True, max_iter=20, normalize=False,\n",
       "      random_state=None, solver='sag', tol=0.001)"
      ]
     },
     "execution_count": 82,
     "metadata": {},
     "output_type": "execute_result"
    }
   ],
   "source": [
    "rg = Ridge(alpha=1.0,solver='sag',max_iter=20)\n",
    "rg.fit(x_train, y_train)"
   ]
  },
  {
   "cell_type": "code",
   "execution_count": 98,
   "metadata": {},
   "outputs": [
    {
     "name": "stdout",
     "output_type": "stream",
     "text": [
      "r2 score:  0.2750831268184153\n",
      "Mean Absolute Error: 1.258618739860334\n",
      "Mean Squared Error: 2.529005759645073\n",
      "Root Mean Squared Error: 1.590284804569632\n"
     ]
    }
   ],
   "source": [
    "y_pred_r = rg.predict(x_test)\n",
    "r2_scr_rg=r2_score(y_test,y_pred_r)\n",
    "print(\"r2 score: \",r2_scr_rg)\n",
    "print('Mean Absolute Error:', metrics.mean_absolute_error(y_test, y_pred_r))\n",
    "\n",
    "print('Mean Squared Error:', metrics.mean_squared_error(y_test, y_pred_r))  \n",
    "print('Root Mean Squared Error:', np.sqrt(metrics.mean_squared_error(y_test, y_pred_r)))\n"
   ]
  },
  {
   "cell_type": "code",
   "execution_count": 99,
   "metadata": {},
   "outputs": [
    {
     "name": "stdout",
     "output_type": "stream",
     "text": [
      "+-----------------------------+---------------------+--------------------+\n",
      "|        ALGORITHM NAME       |      r2_score       |        RMSE        |\n",
      "+-----------------------------+---------------------+--------------------+\n",
      "|      Linear Regression      |  0.2742857181773034 | 1.5911592209021423 |\n",
      "|     K Nearest Regressor     | 0.29581445781434346 | 1.5673802030213415 |\n",
      "|            Ridge            |  0.2750831268184153 | 1.590284804569632  |\n",
      "|             SVR             | 0.25102526159856187 | 1.6164578697139025 |\n",
      "| Gradient Boosting Regressor | 0.32822959886125225 | 1.5308803098309287 |\n",
      "+-----------------------------+---------------------+--------------------+\n",
      "Note- All above values are at Random_state=42\n"
     ]
    }
   ],
   "source": [
    "from prettytable import PrettyTable\n",
    "    \n",
    "z = PrettyTable()\n",
    "z.field_names=[\"ALGORITHM NAME\",\"r2_score \",\"RMSE\"]\n",
    "z.add_row(['Linear Regression',A,A1])\n",
    "z.add_row(['K Nearest Regressor',B,B1])\n",
    "z.add_row(['Ridge',C,C1])\n",
    "z.add_row(['SVR',D,D1])\n",
    "z.add_row(['Gradient Boosting Regressor',E,E1])\n",
    "\n",
    "print(z)\n",
    "\n",
    "print(\"Note- All above values are at Random_state=42\")\n"
   ]
  },
  {
   "cell_type": "code",
   "execution_count": 100,
   "metadata": {},
   "outputs": [],
   "source": [
    "import joblib"
   ]
  },
  {
   "cell_type": "code",
   "execution_count": 101,
   "metadata": {},
   "outputs": [
    {
     "data": {
      "text/plain": [
       "['Abalone.pkl']"
      ]
     },
     "execution_count": 101,
     "metadata": {},
     "output_type": "execute_result"
    }
   ],
   "source": [
    "from sklearn.externals import joblib   #save the model through joblib\n",
    "joblib.dump(rg, 'Abalone.pkl')"
   ]
  },
  {
   "cell_type": "code",
   "execution_count": null,
   "metadata": {},
   "outputs": [],
   "source": []
  }
 ],
 "metadata": {
  "kernelspec": {
   "display_name": "Python 3",
   "language": "python",
   "name": "python3"
  },
  "language_info": {
   "codemirror_mode": {
    "name": "ipython",
    "version": 3
   },
   "file_extension": ".py",
   "mimetype": "text/x-python",
   "name": "python",
   "nbconvert_exporter": "python",
   "pygments_lexer": "ipython3",
   "version": "3.7.3"
  }
 },
 "nbformat": 4,
 "nbformat_minor": 2
}
