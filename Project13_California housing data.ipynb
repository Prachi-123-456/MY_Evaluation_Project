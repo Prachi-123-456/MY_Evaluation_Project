{
 "cells": [
  {
   "cell_type": "code",
   "execution_count": 1,
   "metadata": {},
   "outputs": [],
   "source": [
    "import pandas as pd\n",
    "import numpy as np\n",
    "from sklearn import datasets\n",
    "%matplotlib inline\n",
    "import warnings \n",
    "warnings.filterwarnings('ignore')"
   ]
  },
  {
   "cell_type": "code",
   "execution_count": 66,
   "metadata": {},
   "outputs": [],
   "source": [
    "df=pd.read_csv(\"california.csv\")"
   ]
  },
  {
   "cell_type": "code",
   "execution_count": 67,
   "metadata": {},
   "outputs": [
    {
     "data": {
      "text/html": [
       "<div>\n",
       "<style scoped>\n",
       "    .dataframe tbody tr th:only-of-type {\n",
       "        vertical-align: middle;\n",
       "    }\n",
       "\n",
       "    .dataframe tbody tr th {\n",
       "        vertical-align: top;\n",
       "    }\n",
       "\n",
       "    .dataframe thead th {\n",
       "        text-align: right;\n",
       "    }\n",
       "</style>\n",
       "<table border=\"1\" class=\"dataframe\">\n",
       "  <thead>\n",
       "    <tr style=\"text-align: right;\">\n",
       "      <th></th>\n",
       "      <th>longitude</th>\n",
       "      <th>latitude</th>\n",
       "      <th>housing_median_age</th>\n",
       "      <th>total_rooms</th>\n",
       "      <th>total_bedrooms</th>\n",
       "      <th>population</th>\n",
       "      <th>households</th>\n",
       "      <th>median_income</th>\n",
       "      <th>median_house_value</th>\n",
       "      <th>ocean_proximity</th>\n",
       "    </tr>\n",
       "  </thead>\n",
       "  <tbody>\n",
       "    <tr>\n",
       "      <th>0</th>\n",
       "      <td>-122.23</td>\n",
       "      <td>37.88</td>\n",
       "      <td>41</td>\n",
       "      <td>880</td>\n",
       "      <td>129</td>\n",
       "      <td>322</td>\n",
       "      <td>126</td>\n",
       "      <td>8.3252</td>\n",
       "      <td>452600</td>\n",
       "      <td>NEAR BAY</td>\n",
       "    </tr>\n",
       "    <tr>\n",
       "      <th>1</th>\n",
       "      <td>-122.22</td>\n",
       "      <td>37.86</td>\n",
       "      <td>21</td>\n",
       "      <td>7099</td>\n",
       "      <td>1106</td>\n",
       "      <td>2401</td>\n",
       "      <td>1138</td>\n",
       "      <td>8.3014</td>\n",
       "      <td>358500</td>\n",
       "      <td>NEAR BAY</td>\n",
       "    </tr>\n",
       "    <tr>\n",
       "      <th>2</th>\n",
       "      <td>-122.24</td>\n",
       "      <td>37.85</td>\n",
       "      <td>52</td>\n",
       "      <td>1467</td>\n",
       "      <td>190</td>\n",
       "      <td>496</td>\n",
       "      <td>177</td>\n",
       "      <td>7.2574</td>\n",
       "      <td>352100</td>\n",
       "      <td>NEAR BAY</td>\n",
       "    </tr>\n",
       "    <tr>\n",
       "      <th>3</th>\n",
       "      <td>-122.25</td>\n",
       "      <td>37.85</td>\n",
       "      <td>52</td>\n",
       "      <td>1274</td>\n",
       "      <td>235</td>\n",
       "      <td>558</td>\n",
       "      <td>219</td>\n",
       "      <td>5.6431</td>\n",
       "      <td>341300</td>\n",
       "      <td>NEAR BAY</td>\n",
       "    </tr>\n",
       "    <tr>\n",
       "      <th>4</th>\n",
       "      <td>-122.25</td>\n",
       "      <td>37.85</td>\n",
       "      <td>52</td>\n",
       "      <td>1627</td>\n",
       "      <td>280</td>\n",
       "      <td>565</td>\n",
       "      <td>259</td>\n",
       "      <td>3.8462</td>\n",
       "      <td>342200</td>\n",
       "      <td>NEAR BAY</td>\n",
       "    </tr>\n",
       "  </tbody>\n",
       "</table>\n",
       "</div>"
      ],
      "text/plain": [
       "   longitude  latitude  housing_median_age  total_rooms  total_bedrooms  \\\n",
       "0    -122.23     37.88                  41          880             129   \n",
       "1    -122.22     37.86                  21         7099            1106   \n",
       "2    -122.24     37.85                  52         1467             190   \n",
       "3    -122.25     37.85                  52         1274             235   \n",
       "4    -122.25     37.85                  52         1627             280   \n",
       "\n",
       "   population  households  median_income  median_house_value ocean_proximity  \n",
       "0         322         126         8.3252              452600        NEAR BAY  \n",
       "1        2401        1138         8.3014              358500        NEAR BAY  \n",
       "2         496         177         7.2574              352100        NEAR BAY  \n",
       "3         558         219         5.6431              341300        NEAR BAY  \n",
       "4         565         259         3.8462              342200        NEAR BAY  "
      ]
     },
     "execution_count": 67,
     "metadata": {},
     "output_type": "execute_result"
    }
   ],
   "source": [
    "df.head(5)"
   ]
  },
  {
   "cell_type": "code",
   "execution_count": 68,
   "metadata": {},
   "outputs": [
    {
     "data": {
      "text/plain": [
       "(3685, 10)"
      ]
     },
     "execution_count": 68,
     "metadata": {},
     "output_type": "execute_result"
    }
   ],
   "source": [
    "df.shape"
   ]
  },
  {
   "cell_type": "code",
   "execution_count": 72,
   "metadata": {},
   "outputs": [
    {
     "data": {
      "text/plain": [
       "longitude             float64\n",
       "latitude              float64\n",
       "housing_median_age      int64\n",
       "total_rooms             int64\n",
       "total_bedrooms          int64\n",
       "population              int64\n",
       "households              int64\n",
       "median_income         float64\n",
       "median_house_value      int64\n",
       "ocean_proximity        object\n",
       "dtype: object"
      ]
     },
     "execution_count": 72,
     "metadata": {},
     "output_type": "execute_result"
    }
   ],
   "source": [
    "df.dtypes"
   ]
  },
  {
   "cell_type": "code",
   "execution_count": 73,
   "metadata": {},
   "outputs": [
    {
     "data": {
      "text/html": [
       "<div>\n",
       "<style scoped>\n",
       "    .dataframe tbody tr th:only-of-type {\n",
       "        vertical-align: middle;\n",
       "    }\n",
       "\n",
       "    .dataframe tbody tr th {\n",
       "        vertical-align: top;\n",
       "    }\n",
       "\n",
       "    .dataframe thead th {\n",
       "        text-align: right;\n",
       "    }\n",
       "</style>\n",
       "<table border=\"1\" class=\"dataframe\">\n",
       "  <thead>\n",
       "    <tr style=\"text-align: right;\">\n",
       "      <th></th>\n",
       "      <th>longitude</th>\n",
       "      <th>latitude</th>\n",
       "      <th>housing_median_age</th>\n",
       "      <th>total_rooms</th>\n",
       "      <th>total_bedrooms</th>\n",
       "      <th>population</th>\n",
       "      <th>households</th>\n",
       "      <th>median_income</th>\n",
       "      <th>median_house_value</th>\n",
       "    </tr>\n",
       "  </thead>\n",
       "  <tbody>\n",
       "    <tr>\n",
       "      <th>count</th>\n",
       "      <td>3685.000000</td>\n",
       "      <td>3685.000000</td>\n",
       "      <td>3685.000000</td>\n",
       "      <td>3685.000000</td>\n",
       "      <td>3685.000000</td>\n",
       "      <td>3685.000000</td>\n",
       "      <td>3685.000000</td>\n",
       "      <td>3685.000000</td>\n",
       "      <td>3685.000000</td>\n",
       "    </tr>\n",
       "    <tr>\n",
       "      <th>mean</th>\n",
       "      <td>-120.839824</td>\n",
       "      <td>37.213810</td>\n",
       "      <td>28.939756</td>\n",
       "      <td>2454.677883</td>\n",
       "      <td>480.334328</td>\n",
       "      <td>1264.039891</td>\n",
       "      <td>450.054545</td>\n",
       "      <td>3.529461</td>\n",
       "      <td>154646.467300</td>\n",
       "    </tr>\n",
       "    <tr>\n",
       "      <th>std</th>\n",
       "      <td>1.826785</td>\n",
       "      <td>1.730924</td>\n",
       "      <td>13.101610</td>\n",
       "      <td>1904.792751</td>\n",
       "      <td>359.970059</td>\n",
       "      <td>949.632105</td>\n",
       "      <td>336.852592</td>\n",
       "      <td>1.781342</td>\n",
       "      <td>95410.751125</td>\n",
       "    </tr>\n",
       "    <tr>\n",
       "      <th>min</th>\n",
       "      <td>-124.350000</td>\n",
       "      <td>32.670000</td>\n",
       "      <td>1.000000</td>\n",
       "      <td>2.000000</td>\n",
       "      <td>0.000000</td>\n",
       "      <td>6.000000</td>\n",
       "      <td>2.000000</td>\n",
       "      <td>0.499900</td>\n",
       "      <td>14999.000000</td>\n",
       "    </tr>\n",
       "    <tr>\n",
       "      <th>25%</th>\n",
       "      <td>-122.180000</td>\n",
       "      <td>36.510000</td>\n",
       "      <td>18.000000</td>\n",
       "      <td>1371.000000</td>\n",
       "      <td>274.000000</td>\n",
       "      <td>721.000000</td>\n",
       "      <td>259.000000</td>\n",
       "      <td>2.250000</td>\n",
       "      <td>81300.000000</td>\n",
       "    </tr>\n",
       "    <tr>\n",
       "      <th>50%</th>\n",
       "      <td>-121.820000</td>\n",
       "      <td>37.720000</td>\n",
       "      <td>29.000000</td>\n",
       "      <td>1988.000000</td>\n",
       "      <td>393.000000</td>\n",
       "      <td>1038.000000</td>\n",
       "      <td>369.000000</td>\n",
       "      <td>3.136400</td>\n",
       "      <td>128800.000000</td>\n",
       "    </tr>\n",
       "    <tr>\n",
       "      <th>75%</th>\n",
       "      <td>-119.610000</td>\n",
       "      <td>37.950000</td>\n",
       "      <td>38.000000</td>\n",
       "      <td>2964.000000</td>\n",
       "      <td>575.000000</td>\n",
       "      <td>1518.000000</td>\n",
       "      <td>536.000000</td>\n",
       "      <td>4.435600</td>\n",
       "      <td>202300.000000</td>\n",
       "    </tr>\n",
       "    <tr>\n",
       "      <th>max</th>\n",
       "      <td>-114.550000</td>\n",
       "      <td>41.950000</td>\n",
       "      <td>52.000000</td>\n",
       "      <td>28258.000000</td>\n",
       "      <td>3864.000000</td>\n",
       "      <td>12203.000000</td>\n",
       "      <td>3701.000000</td>\n",
       "      <td>15.000100</td>\n",
       "      <td>500001.000000</td>\n",
       "    </tr>\n",
       "  </tbody>\n",
       "</table>\n",
       "</div>"
      ],
      "text/plain": [
       "         longitude     latitude  housing_median_age   total_rooms  \\\n",
       "count  3685.000000  3685.000000         3685.000000   3685.000000   \n",
       "mean   -120.839824    37.213810           28.939756   2454.677883   \n",
       "std       1.826785     1.730924           13.101610   1904.792751   \n",
       "min    -124.350000    32.670000            1.000000      2.000000   \n",
       "25%    -122.180000    36.510000           18.000000   1371.000000   \n",
       "50%    -121.820000    37.720000           29.000000   1988.000000   \n",
       "75%    -119.610000    37.950000           38.000000   2964.000000   \n",
       "max    -114.550000    41.950000           52.000000  28258.000000   \n",
       "\n",
       "       total_bedrooms    population   households  median_income  \\\n",
       "count     3685.000000   3685.000000  3685.000000    3685.000000   \n",
       "mean       480.334328   1264.039891   450.054545       3.529461   \n",
       "std        359.970059    949.632105   336.852592       1.781342   \n",
       "min          0.000000      6.000000     2.000000       0.499900   \n",
       "25%        274.000000    721.000000   259.000000       2.250000   \n",
       "50%        393.000000   1038.000000   369.000000       3.136400   \n",
       "75%        575.000000   1518.000000   536.000000       4.435600   \n",
       "max       3864.000000  12203.000000  3701.000000      15.000100   \n",
       "\n",
       "       median_house_value  \n",
       "count         3685.000000  \n",
       "mean        154646.467300  \n",
       "std          95410.751125  \n",
       "min          14999.000000  \n",
       "25%          81300.000000  \n",
       "50%         128800.000000  \n",
       "75%         202300.000000  \n",
       "max         500001.000000  "
      ]
     },
     "execution_count": 73,
     "metadata": {},
     "output_type": "execute_result"
    }
   ],
   "source": [
    "df.describe()"
   ]
  },
  {
   "cell_type": "code",
   "execution_count": 74,
   "metadata": {},
   "outputs": [
    {
     "data": {
      "text/html": [
       "<div>\n",
       "<style scoped>\n",
       "    .dataframe tbody tr th:only-of-type {\n",
       "        vertical-align: middle;\n",
       "    }\n",
       "\n",
       "    .dataframe tbody tr th {\n",
       "        vertical-align: top;\n",
       "    }\n",
       "\n",
       "    .dataframe thead th {\n",
       "        text-align: right;\n",
       "    }\n",
       "</style>\n",
       "<table border=\"1\" class=\"dataframe\">\n",
       "  <thead>\n",
       "    <tr style=\"text-align: right;\">\n",
       "      <th></th>\n",
       "      <th>longitude</th>\n",
       "      <th>latitude</th>\n",
       "      <th>housing_median_age</th>\n",
       "      <th>total_rooms</th>\n",
       "      <th>total_bedrooms</th>\n",
       "      <th>population</th>\n",
       "      <th>households</th>\n",
       "      <th>median_income</th>\n",
       "      <th>median_house_value</th>\n",
       "    </tr>\n",
       "  </thead>\n",
       "  <tbody>\n",
       "    <tr>\n",
       "      <th>longitude</th>\n",
       "      <td>1.000000</td>\n",
       "      <td>-0.876516</td>\n",
       "      <td>-0.224452</td>\n",
       "      <td>-0.024214</td>\n",
       "      <td>-0.006718</td>\n",
       "      <td>0.073167</td>\n",
       "      <td>-0.015455</td>\n",
       "      <td>-0.091940</td>\n",
       "      <td>-0.254799</td>\n",
       "    </tr>\n",
       "    <tr>\n",
       "      <th>latitude</th>\n",
       "      <td>-0.876516</td>\n",
       "      <td>1.000000</td>\n",
       "      <td>0.063114</td>\n",
       "      <td>-0.007104</td>\n",
       "      <td>-0.021925</td>\n",
       "      <td>-0.127461</td>\n",
       "      <td>-0.039532</td>\n",
       "      <td>-0.049876</td>\n",
       "      <td>0.024237</td>\n",
       "    </tr>\n",
       "    <tr>\n",
       "      <th>housing_median_age</th>\n",
       "      <td>-0.224452</td>\n",
       "      <td>0.063114</td>\n",
       "      <td>1.000000</td>\n",
       "      <td>-0.348809</td>\n",
       "      <td>-0.314419</td>\n",
       "      <td>-0.309697</td>\n",
       "      <td>-0.292258</td>\n",
       "      <td>-0.169487</td>\n",
       "      <td>0.029927</td>\n",
       "    </tr>\n",
       "    <tr>\n",
       "      <th>total_rooms</th>\n",
       "      <td>-0.024214</td>\n",
       "      <td>-0.007104</td>\n",
       "      <td>-0.348809</td>\n",
       "      <td>1.000000</td>\n",
       "      <td>0.919278</td>\n",
       "      <td>0.891035</td>\n",
       "      <td>0.932497</td>\n",
       "      <td>0.316303</td>\n",
       "      <td>0.291886</td>\n",
       "    </tr>\n",
       "    <tr>\n",
       "      <th>total_bedrooms</th>\n",
       "      <td>-0.006718</td>\n",
       "      <td>-0.021925</td>\n",
       "      <td>-0.314419</td>\n",
       "      <td>0.919278</td>\n",
       "      <td>1.000000</td>\n",
       "      <td>0.892405</td>\n",
       "      <td>0.968920</td>\n",
       "      <td>0.093621</td>\n",
       "      <td>0.149811</td>\n",
       "    </tr>\n",
       "    <tr>\n",
       "      <th>population</th>\n",
       "      <td>0.073167</td>\n",
       "      <td>-0.127461</td>\n",
       "      <td>-0.309697</td>\n",
       "      <td>0.891035</td>\n",
       "      <td>0.892405</td>\n",
       "      <td>1.000000</td>\n",
       "      <td>0.929824</td>\n",
       "      <td>0.143453</td>\n",
       "      <td>0.137090</td>\n",
       "    </tr>\n",
       "    <tr>\n",
       "      <th>households</th>\n",
       "      <td>-0.015455</td>\n",
       "      <td>-0.039532</td>\n",
       "      <td>-0.292258</td>\n",
       "      <td>0.932497</td>\n",
       "      <td>0.968920</td>\n",
       "      <td>0.929824</td>\n",
       "      <td>1.000000</td>\n",
       "      <td>0.131342</td>\n",
       "      <td>0.178384</td>\n",
       "    </tr>\n",
       "    <tr>\n",
       "      <th>median_income</th>\n",
       "      <td>-0.091940</td>\n",
       "      <td>-0.049876</td>\n",
       "      <td>-0.169487</td>\n",
       "      <td>0.316303</td>\n",
       "      <td>0.093621</td>\n",
       "      <td>0.143453</td>\n",
       "      <td>0.131342</td>\n",
       "      <td>1.000000</td>\n",
       "      <td>0.783687</td>\n",
       "    </tr>\n",
       "    <tr>\n",
       "      <th>median_house_value</th>\n",
       "      <td>-0.254799</td>\n",
       "      <td>0.024237</td>\n",
       "      <td>0.029927</td>\n",
       "      <td>0.291886</td>\n",
       "      <td>0.149811</td>\n",
       "      <td>0.137090</td>\n",
       "      <td>0.178384</td>\n",
       "      <td>0.783687</td>\n",
       "      <td>1.000000</td>\n",
       "    </tr>\n",
       "  </tbody>\n",
       "</table>\n",
       "</div>"
      ],
      "text/plain": [
       "                    longitude  latitude  housing_median_age  total_rooms  \\\n",
       "longitude            1.000000 -0.876516           -0.224452    -0.024214   \n",
       "latitude            -0.876516  1.000000            0.063114    -0.007104   \n",
       "housing_median_age  -0.224452  0.063114            1.000000    -0.348809   \n",
       "total_rooms         -0.024214 -0.007104           -0.348809     1.000000   \n",
       "total_bedrooms      -0.006718 -0.021925           -0.314419     0.919278   \n",
       "population           0.073167 -0.127461           -0.309697     0.891035   \n",
       "households          -0.015455 -0.039532           -0.292258     0.932497   \n",
       "median_income       -0.091940 -0.049876           -0.169487     0.316303   \n",
       "median_house_value  -0.254799  0.024237            0.029927     0.291886   \n",
       "\n",
       "                    total_bedrooms  population  households  median_income  \\\n",
       "longitude                -0.006718    0.073167   -0.015455      -0.091940   \n",
       "latitude                 -0.021925   -0.127461   -0.039532      -0.049876   \n",
       "housing_median_age       -0.314419   -0.309697   -0.292258      -0.169487   \n",
       "total_rooms               0.919278    0.891035    0.932497       0.316303   \n",
       "total_bedrooms            1.000000    0.892405    0.968920       0.093621   \n",
       "population                0.892405    1.000000    0.929824       0.143453   \n",
       "households                0.968920    0.929824    1.000000       0.131342   \n",
       "median_income             0.093621    0.143453    0.131342       1.000000   \n",
       "median_house_value        0.149811    0.137090    0.178384       0.783687   \n",
       "\n",
       "                    median_house_value  \n",
       "longitude                    -0.254799  \n",
       "latitude                      0.024237  \n",
       "housing_median_age            0.029927  \n",
       "total_rooms                   0.291886  \n",
       "total_bedrooms                0.149811  \n",
       "population                    0.137090  \n",
       "households                    0.178384  \n",
       "median_income                 0.783687  \n",
       "median_house_value            1.000000  "
      ]
     },
     "execution_count": 74,
     "metadata": {},
     "output_type": "execute_result"
    }
   ],
   "source": [
    "df.corr()"
   ]
  },
  {
   "cell_type": "code",
   "execution_count": 75,
   "metadata": {},
   "outputs": [
    {
     "data": {
      "text/plain": [
       "longitude             0\n",
       "latitude              0\n",
       "housing_median_age    0\n",
       "total_rooms           0\n",
       "total_bedrooms        0\n",
       "population            0\n",
       "households            0\n",
       "median_income         0\n",
       "median_house_value    0\n",
       "ocean_proximity       0\n",
       "dtype: int64"
      ]
     },
     "execution_count": 75,
     "metadata": {},
     "output_type": "execute_result"
    }
   ],
   "source": [
    "df.isnull().sum()"
   ]
  },
  {
   "cell_type": "code",
   "execution_count": 76,
   "metadata": {},
   "outputs": [
    {
     "data": {
      "text/plain": [
       "Index(['longitude', 'latitude', 'housing_median_age', 'total_rooms',\n",
       "       'total_bedrooms', 'population', 'households', 'median_income',\n",
       "       'median_house_value', 'ocean_proximity'],\n",
       "      dtype='object')"
      ]
     },
     "execution_count": 76,
     "metadata": {},
     "output_type": "execute_result"
    }
   ],
   "source": [
    "df.columns"
   ]
  },
  {
   "cell_type": "code",
   "execution_count": 77,
   "metadata": {},
   "outputs": [],
   "source": [
    "df.drop(['ocean_proximity'],axis=1,inplace=True)"
   ]
  },
  {
   "cell_type": "code",
   "execution_count": 78,
   "metadata": {},
   "outputs": [],
   "source": [
    "df.longitude=df.longitude.astype(float)\n",
    "df.latitude=df.latitude.astype(float)\n",
    "df.total_bedrooms=df.total_bedrooms.astype(float)\n",
    "df.median_income=df.median_income.astype(float)\n"
   ]
  },
  {
   "cell_type": "code",
   "execution_count": 79,
   "metadata": {},
   "outputs": [
    {
     "data": {
      "text/plain": [
       "longitude             0\n",
       "latitude              0\n",
       "housing_median_age    0\n",
       "total_rooms           0\n",
       "total_bedrooms        0\n",
       "population            0\n",
       "households            0\n",
       "median_income         0\n",
       "median_house_value    0\n",
       "dtype: int64"
      ]
     },
     "execution_count": 79,
     "metadata": {},
     "output_type": "execute_result"
    }
   ],
   "source": [
    "df.isna().sum()"
   ]
  },
  {
   "cell_type": "markdown",
   "metadata": {},
   "source": [
    "# EDA"
   ]
  },
  {
   "cell_type": "code",
   "execution_count": 102,
   "metadata": {},
   "outputs": [
    {
     "data": {
      "text/plain": [
       "<matplotlib.axes._subplots.AxesSubplot at 0x25c1d8795f8>"
      ]
     },
     "execution_count": 102,
     "metadata": {},
     "output_type": "execute_result"
    },
    {
     "data": {
      "image/png": "[encoded data removed]",
      "text/plain": [
       "<Figure size 432x288 with 2 Axes>"
      ]
     },
     "metadata": {},
     "output_type": "display_data"
    }
   ],
   "source": [
    "sns.heatmap(df.corr(),annot=True)"
   ]
  },
  {
   "cell_type": "code",
   "execution_count": 104,
   "metadata": {},
   "outputs": [
    {
     "data": {
      "text/plain": [
       "<matplotlib.axes._subplots.AxesSubplot at 0x25c1fc29a58>"
      ]
     },
     "execution_count": 104,
     "metadata": {},
     "output_type": "execute_result"
    },
    {
     "data": {
      "image/png": "[encoded data removed]",
      "text/plain": [
       "<Figure size 432x288 with 1 Axes>"
      ]
     },
     "metadata": {},
     "output_type": "display_data"
    }
   ],
   "source": [
    "sns.violinplot(x='housing_median_age',data=df)"
   ]
  },
  {
   "cell_type": "code",
   "execution_count": 106,
   "metadata": {},
   "outputs": [
    {
     "data": {
      "text/plain": [
       "<matplotlib.collections.PathCollection at 0x25c1d942160>"
      ]
     },
     "execution_count": 106,
     "metadata": {},
     "output_type": "execute_result"
    },
    {
     "data": {
      "image/png": "[encoded data removed]",
      "text/plain": [
       "<Figure size 432x288 with 1 Axes>"
      ]
     },
     "metadata": {},
     "output_type": "display_data"
    }
   ],
   "source": [
    "plt.scatter(x='housing_median_age',y='median_house_value',data=df)"
   ]
  },
  {
   "cell_type": "markdown",
   "metadata": {},
   "source": [
    "# Hold Out Validation "
   ]
  },
  {
   "cell_type": "code",
   "execution_count": 82,
   "metadata": {},
   "outputs": [],
   "source": [
    "y = df[['median_house_value']]\n",
    "from sklearn.model_selection import train_test_split\n",
    "x_train, x_test, y_train, y_test = train_test_split(df, y, test_size = 0.3)"
   ]
  },
  {
   "cell_type": "code",
   "execution_count": 83,
   "metadata": {},
   "outputs": [],
   "source": [
    "from timeit import default_timer as timer\n",
    "start_ho = timer()"
   ]
  },
  {
   "cell_type": "code",
   "execution_count": 99,
   "metadata": {},
   "outputs": [
    {
     "name": "stdout",
     "output_type": "stream",
     "text": [
      "[[262500.]\n",
      " [ 78900.]\n",
      " [419900.]\n",
      " ...\n",
      " [ 68500.]\n",
      " [330000.]\n",
      " [139100.]]\n"
     ]
    }
   ],
   "source": [
    "from sklearn.linear_model import LinearRegression\n",
    "lr = LinearRegression()\n",
    "model = lr.fit(x_train, y_train)\n",
    "pred = lr.predict(x_test)\n",
    "lr.score(x_train,y_train)\n",
    "end_ho = timer()\n",
    "time_ho = (end_ho - start_ho)\n",
    "print(pred)"
   ]
  },
  {
   "cell_type": "code",
   "execution_count": 89,
   "metadata": {},
   "outputs": [
    {
     "name": "stdout",
     "output_type": "stream",
     "text": [
      "-3.332416014231713e-21\n"
     ]
    }
   ],
   "source": [
    "start_ho_score = timer()\n",
    "# model score (neg_mean_squared_error)\n",
    "from sklearn import metrics\n",
    "ho_score = -1*metrics.mean_squared_error(y_test, pred)\n",
    "print(ho_score)\n",
    "end_ho_score = timer()\n",
    "ho_score_time = (end_ho_score - start_ho_score)"
   ]
  },
  {
   "cell_type": "markdown",
   "metadata": {},
   "source": [
    "# K-Fold Cross Validation"
   ]
  },
  {
   "cell_type": "code",
   "execution_count": 90,
   "metadata": {},
   "outputs": [
    {
     "name": "stdout",
     "output_type": "stream",
     "text": [
      "[[452600.]\n",
      " [358500.]\n",
      " [352100.]\n",
      " ...\n",
      " [187500.]\n",
      " [207300.]\n",
      " [176400.]]\n"
     ]
    }
   ],
   "source": [
    "x = np.array(df)\n",
    "start_kfold = timer()\n",
    "from sklearn.model_selection import cross_val_predict\n",
    "lr_k = LinearRegression()\n",
    "k_pred = cross_val_predict(lr_k, x, y, cv=10)\n",
    "print(k_pred)\n",
    "end_kfold = timer()\n",
    "kfold_time = (end_kfold - start_kfold)"
   ]
  },
  {
   "cell_type": "code",
   "execution_count": 93,
   "metadata": {},
   "outputs": [
    {
     "name": "stdout",
     "output_type": "stream",
     "text": [
      "-2.8733996814048917e-21\n"
     ]
    },
    {
     "data": {
      "text/plain": [
       "<matplotlib.axes._subplots.AxesSubplot at 0x25c1d2560b8>"
      ]
     },
     "execution_count": 93,
     "metadata": {},
     "output_type": "execute_result"
    },
    {
     "data": {
      "image/png": "[encoded data removed]",
      "text/plain": [
       "<Figure size 432x288 with 1 Axes>"
      ]
     },
     "metadata": {},
     "output_type": "display_data"
    }
   ],
   "source": [
    "from sklearn.model_selection import cross_val_score\n",
    "kfold_score_start = timer()\n",
    "kfold_scores = cross_val_score(lr_k, x, y, cv=10, scoring='neg_mean_squared_error')\n",
    "print(kfold_scores.mean())\n",
    "kfold_score_end = timer()\n",
    "kfold_score_time = (kfold_score_end - kfold_score_start)\n",
    "sns.distplot(kfold_scores, bins=6, color='green')"
   ]
  },
  {
   "cell_type": "markdown",
   "metadata": {},
   "source": [
    "# Leave One Out Cross Validation"
   ]
  },
  {
   "cell_type": "code",
   "execution_count": 94,
   "metadata": {},
   "outputs": [],
   "source": [
    "start_LOO = timer()\n",
    "LOO_pred = cross_val_predict(lr_k, x, y, cv=(len(x)))\n",
    "end_LOO = timer()\n",
    "LOO_time = (end_LOO - start_LOO)"
   ]
  },
  {
   "cell_type": "code",
   "execution_count": 98,
   "metadata": {},
   "outputs": [
    {
     "name": "stdout",
     "output_type": "stream",
     "text": [
      "-4.1654750502543475e-21\n"
     ]
    }
   ],
   "source": [
    "LOO_score_start = timer()\n",
    "# find the mean score from the LOO models using cross_val_score \n",
    "LOO_score = cross_val_score(lr_k, x, y, cv=(len(x)), scoring='neg_mean_squared_error').mean()\n",
    "print(LOO_score)\n",
    "LOO_score_end = timer()\n",
    "LOO_score_time = (LOO_score_end - LOO_score_start)"
   ]
  },
  {
   "cell_type": "code",
   "execution_count": 101,
   "metadata": {},
   "outputs": [
    {
     "data": {
      "text/plain": [
       "1.0"
      ]
     },
     "execution_count": 101,
     "metadata": {},
     "output_type": "execute_result"
    }
   ],
   "source": [
    "lr.score(x_test, pred)"
   ]
  },
  {
   "cell_type": "code",
   "execution_count": null,
   "metadata": {},
   "outputs": [],
   "source": [
    "from sklearn.externals import joblib   #save the model through joblib\n",
    "joblib.dump(lr, 'california.pkl')"
   ]
  }
 ],
 "metadata": {
  "kernelspec": {
   "display_name": "Python 3",
   "language": "python",
   "name": "python3"
  },
  "language_info": {
   "codemirror_mode": {
    "name": "ipython",
    "version": 3
   },
   "file_extension": ".py",
   "mimetype": "text/x-python",
   "name": "python",
   "nbconvert_exporter": "python",
   "pygments_lexer": "ipython3",
   "version": "3.7.3"
  }
 },
 "nbformat": 4,
 "nbformat_minor": 2
}
